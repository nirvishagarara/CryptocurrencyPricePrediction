{
 "cells": [
  {
   "cell_type": "markdown",
   "id": "resident-hospital",
   "metadata": {},
   "source": [
    "# Cryptocurrency price prediction using LSTM"
   ]
  },
  {
   "cell_type": "code",
   "execution_count": 3,
   "id": "central-twins",
   "metadata": {},
   "outputs": [],
   "source": [
    "import json\n",
    "import requests\n",
    "from keras.models import Sequential\n",
    "from keras.layers import Activation, Dense, Dropout, LSTM\n",
    "import matplotlib.pyplot as plt\n",
    "import numpy as np\n",
    "import pandas as pd\n",
    "import seaborn as sns\n",
    "from sklearn.metrics import mean_absolute_error\n",
    "%matplotlib inline\n",
    "import pickle"
   ]
  },
  {
   "cell_type": "code",
   "execution_count": 4,
   "id": "utility-helicopter",
   "metadata": {},
   "outputs": [],
   "source": [
    "endpoint = 'https://min-api.cryptocompare.com/data/histoday'\n",
    "res = requests.get(endpoint + '?fsym=BTC&tsym=USD&limit=500')\n",
    "hist = pd.DataFrame(json.loads(res.content)['Data'])\n",
    "hist = hist.set_index('time')\n",
    "hist.index = pd.to_datetime(hist.index, unit='s')\n",
    "target_col = 'close'"
   ]
  },
  {
   "cell_type": "code",
   "execution_count": null,
   "id": "major-phrase",
   "metadata": {},
   "outputs": [],
   "source": []
  },
  {
   "cell_type": "code",
   "execution_count": 5,
   "id": "imposed-diabetes",
   "metadata": {},
   "outputs": [
    {
     "data": {
      "text/html": [
       "<div>\n",
       "<style scoped>\n",
       "    .dataframe tbody tr th:only-of-type {\n",
       "        vertical-align: middle;\n",
       "    }\n",
       "\n",
       "    .dataframe tbody tr th {\n",
       "        vertical-align: top;\n",
       "    }\n",
       "\n",
       "    .dataframe thead th {\n",
       "        text-align: right;\n",
       "    }\n",
       "</style>\n",
       "<table border=\"1\" class=\"dataframe\">\n",
       "  <thead>\n",
       "    <tr style=\"text-align: right;\">\n",
       "      <th></th>\n",
       "      <th>high</th>\n",
       "      <th>low</th>\n",
       "      <th>open</th>\n",
       "      <th>volumefrom</th>\n",
       "      <th>volumeto</th>\n",
       "      <th>close</th>\n",
       "      <th>conversionType</th>\n",
       "      <th>conversionSymbol</th>\n",
       "    </tr>\n",
       "    <tr>\n",
       "      <th>time</th>\n",
       "      <th></th>\n",
       "      <th></th>\n",
       "      <th></th>\n",
       "      <th></th>\n",
       "      <th></th>\n",
       "      <th></th>\n",
       "      <th></th>\n",
       "      <th></th>\n",
       "    </tr>\n",
       "  </thead>\n",
       "  <tbody>\n",
       "    <tr>\n",
       "      <th>2020-07-17</th>\n",
       "      <td>9183.08</td>\n",
       "      <td>9080.61</td>\n",
       "      <td>9133.23</td>\n",
       "      <td>20542.60</td>\n",
       "      <td>1.877101e+08</td>\n",
       "      <td>9156.79</td>\n",
       "      <td>direct</td>\n",
       "      <td></td>\n",
       "    </tr>\n",
       "    <tr>\n",
       "      <th>2020-07-18</th>\n",
       "      <td>9205.94</td>\n",
       "      <td>9125.92</td>\n",
       "      <td>9156.79</td>\n",
       "      <td>11952.82</td>\n",
       "      <td>1.095633e+08</td>\n",
       "      <td>9177.22</td>\n",
       "      <td>direct</td>\n",
       "      <td></td>\n",
       "    </tr>\n",
       "    <tr>\n",
       "      <th>2020-07-19</th>\n",
       "      <td>9238.30</td>\n",
       "      <td>9113.41</td>\n",
       "      <td>9177.22</td>\n",
       "      <td>12797.83</td>\n",
       "      <td>1.172980e+08</td>\n",
       "      <td>9216.02</td>\n",
       "      <td>direct</td>\n",
       "      <td></td>\n",
       "    </tr>\n",
       "    <tr>\n",
       "      <th>2020-07-20</th>\n",
       "      <td>9224.76</td>\n",
       "      <td>9136.90</td>\n",
       "      <td>9216.02</td>\n",
       "      <td>18729.90</td>\n",
       "      <td>1.718770e+08</td>\n",
       "      <td>9164.42</td>\n",
       "      <td>direct</td>\n",
       "      <td></td>\n",
       "    </tr>\n",
       "    <tr>\n",
       "      <th>2020-07-21</th>\n",
       "      <td>9435.55</td>\n",
       "      <td>9162.25</td>\n",
       "      <td>9164.42</td>\n",
       "      <td>34505.35</td>\n",
       "      <td>3.376457e+08</td>\n",
       "      <td>9392.83</td>\n",
       "      <td>direct</td>\n",
       "      <td></td>\n",
       "    </tr>\n",
       "    <tr>\n",
       "      <th>2020-07-22</th>\n",
       "      <td>9551.87</td>\n",
       "      <td>9289.85</td>\n",
       "      <td>9392.83</td>\n",
       "      <td>29959.04</td>\n",
       "      <td>2.816611e+08</td>\n",
       "      <td>9537.24</td>\n",
       "      <td>direct</td>\n",
       "      <td></td>\n",
       "    </tr>\n",
       "    <tr>\n",
       "      <th>2020-07-23</th>\n",
       "      <td>9675.50</td>\n",
       "      <td>9458.25</td>\n",
       "      <td>9537.24</td>\n",
       "      <td>43462.72</td>\n",
       "      <td>4.150799e+08</td>\n",
       "      <td>9615.21</td>\n",
       "      <td>direct</td>\n",
       "      <td></td>\n",
       "    </tr>\n",
       "    <tr>\n",
       "      <th>2020-07-24</th>\n",
       "      <td>9647.83</td>\n",
       "      <td>9477.19</td>\n",
       "      <td>9615.21</td>\n",
       "      <td>33810.92</td>\n",
       "      <td>3.230925e+08</td>\n",
       "      <td>9550.23</td>\n",
       "      <td>direct</td>\n",
       "      <td></td>\n",
       "    </tr>\n",
       "    <tr>\n",
       "      <th>2020-07-25</th>\n",
       "      <td>9744.72</td>\n",
       "      <td>9536.76</td>\n",
       "      <td>9550.23</td>\n",
       "      <td>24211.00</td>\n",
       "      <td>2.333010e+08</td>\n",
       "      <td>9708.41</td>\n",
       "      <td>direct</td>\n",
       "      <td></td>\n",
       "    </tr>\n",
       "    <tr>\n",
       "      <th>2020-07-26</th>\n",
       "      <td>10140.55</td>\n",
       "      <td>9659.08</td>\n",
       "      <td>9708.41</td>\n",
       "      <td>42161.94</td>\n",
       "      <td>4.173374e+08</td>\n",
       "      <td>9942.01</td>\n",
       "      <td>direct</td>\n",
       "      <td></td>\n",
       "    </tr>\n",
       "  </tbody>\n",
       "</table>\n",
       "</div>"
      ],
      "text/plain": [
       "                high      low     open  volumefrom      volumeto    close  \\\n",
       "time                                                                        \n",
       "2020-07-17   9183.08  9080.61  9133.23    20542.60  1.877101e+08  9156.79   \n",
       "2020-07-18   9205.94  9125.92  9156.79    11952.82  1.095633e+08  9177.22   \n",
       "2020-07-19   9238.30  9113.41  9177.22    12797.83  1.172980e+08  9216.02   \n",
       "2020-07-20   9224.76  9136.90  9216.02    18729.90  1.718770e+08  9164.42   \n",
       "2020-07-21   9435.55  9162.25  9164.42    34505.35  3.376457e+08  9392.83   \n",
       "2020-07-22   9551.87  9289.85  9392.83    29959.04  2.816611e+08  9537.24   \n",
       "2020-07-23   9675.50  9458.25  9537.24    43462.72  4.150799e+08  9615.21   \n",
       "2020-07-24   9647.83  9477.19  9615.21    33810.92  3.230925e+08  9550.23   \n",
       "2020-07-25   9744.72  9536.76  9550.23    24211.00  2.333010e+08  9708.41   \n",
       "2020-07-26  10140.55  9659.08  9708.41    42161.94  4.173374e+08  9942.01   \n",
       "\n",
       "           conversionType conversionSymbol  \n",
       "time                                        \n",
       "2020-07-17         direct                   \n",
       "2020-07-18         direct                   \n",
       "2020-07-19         direct                   \n",
       "2020-07-20         direct                   \n",
       "2020-07-21         direct                   \n",
       "2020-07-22         direct                   \n",
       "2020-07-23         direct                   \n",
       "2020-07-24         direct                   \n",
       "2020-07-25         direct                   \n",
       "2020-07-26         direct                   "
      ]
     },
     "execution_count": 5,
     "metadata": {},
     "output_type": "execute_result"
    }
   ],
   "source": [
    "hist.head(10)"
   ]
  },
  {
   "cell_type": "code",
   "execution_count": 6,
   "id": "starting-daniel",
   "metadata": {},
   "outputs": [
    {
     "data": {
      "text/plain": [
       "501"
      ]
     },
     "execution_count": 6,
     "metadata": {},
     "output_type": "execute_result"
    }
   ],
   "source": [
    "len(hist)"
   ]
  },
  {
   "cell_type": "code",
   "execution_count": 7,
   "id": "chemical-backing",
   "metadata": {},
   "outputs": [
    {
     "data": {
      "text/html": [
       "<div>\n",
       "<style scoped>\n",
       "    .dataframe tbody tr th:only-of-type {\n",
       "        vertical-align: middle;\n",
       "    }\n",
       "\n",
       "    .dataframe tbody tr th {\n",
       "        vertical-align: top;\n",
       "    }\n",
       "\n",
       "    .dataframe thead th {\n",
       "        text-align: right;\n",
       "    }\n",
       "</style>\n",
       "<table border=\"1\" class=\"dataframe\">\n",
       "  <thead>\n",
       "    <tr style=\"text-align: right;\">\n",
       "      <th></th>\n",
       "      <th>high</th>\n",
       "      <th>low</th>\n",
       "      <th>open</th>\n",
       "      <th>volumefrom</th>\n",
       "      <th>volumeto</th>\n",
       "      <th>close</th>\n",
       "      <th>conversionType</th>\n",
       "      <th>conversionSymbol</th>\n",
       "    </tr>\n",
       "    <tr>\n",
       "      <th>time</th>\n",
       "      <th></th>\n",
       "      <th></th>\n",
       "      <th></th>\n",
       "      <th></th>\n",
       "      <th></th>\n",
       "      <th></th>\n",
       "      <th></th>\n",
       "      <th></th>\n",
       "    </tr>\n",
       "  </thead>\n",
       "  <tbody>\n",
       "    <tr>\n",
       "      <th>2021-11-25</th>\n",
       "      <td>59437.04</td>\n",
       "      <td>57056.64</td>\n",
       "      <td>57175.09</td>\n",
       "      <td>24221.47</td>\n",
       "      <td>1.412787e+09</td>\n",
       "      <td>58966.99</td>\n",
       "      <td>direct</td>\n",
       "      <td></td>\n",
       "    </tr>\n",
       "    <tr>\n",
       "      <th>2021-11-26</th>\n",
       "      <td>59201.95</td>\n",
       "      <td>53575.54</td>\n",
       "      <td>58966.99</td>\n",
       "      <td>60064.72</td>\n",
       "      <td>3.312563e+09</td>\n",
       "      <td>53788.22</td>\n",
       "      <td>direct</td>\n",
       "      <td></td>\n",
       "    </tr>\n",
       "    <tr>\n",
       "      <th>2021-11-27</th>\n",
       "      <td>55316.65</td>\n",
       "      <td>53668.95</td>\n",
       "      <td>53788.22</td>\n",
       "      <td>18504.73</td>\n",
       "      <td>1.010586e+09</td>\n",
       "      <td>54805.03</td>\n",
       "      <td>direct</td>\n",
       "      <td></td>\n",
       "    </tr>\n",
       "    <tr>\n",
       "      <th>2021-11-28</th>\n",
       "      <td>57475.26</td>\n",
       "      <td>53436.05</td>\n",
       "      <td>54805.03</td>\n",
       "      <td>21562.34</td>\n",
       "      <td>1.186995e+09</td>\n",
       "      <td>57331.41</td>\n",
       "      <td>direct</td>\n",
       "      <td></td>\n",
       "    </tr>\n",
       "    <tr>\n",
       "      <th>2021-11-29</th>\n",
       "      <td>58898.57</td>\n",
       "      <td>56752.37</td>\n",
       "      <td>57331.41</td>\n",
       "      <td>24482.75</td>\n",
       "      <td>1.410547e+09</td>\n",
       "      <td>58379.92</td>\n",
       "      <td>direct</td>\n",
       "      <td></td>\n",
       "    </tr>\n",
       "  </tbody>\n",
       "</table>\n",
       "</div>"
      ],
      "text/plain": [
       "                high       low      open  volumefrom      volumeto     close  \\\n",
       "time                                                                           \n",
       "2021-11-25  59437.04  57056.64  57175.09    24221.47  1.412787e+09  58966.99   \n",
       "2021-11-26  59201.95  53575.54  58966.99    60064.72  3.312563e+09  53788.22   \n",
       "2021-11-27  55316.65  53668.95  53788.22    18504.73  1.010586e+09  54805.03   \n",
       "2021-11-28  57475.26  53436.05  54805.03    21562.34  1.186995e+09  57331.41   \n",
       "2021-11-29  58898.57  56752.37  57331.41    24482.75  1.410547e+09  58379.92   \n",
       "\n",
       "           conversionType conversionSymbol  \n",
       "time                                        \n",
       "2021-11-25         direct                   \n",
       "2021-11-26         direct                   \n",
       "2021-11-27         direct                   \n",
       "2021-11-28         direct                   \n",
       "2021-11-29         direct                   "
      ]
     },
     "execution_count": 7,
     "metadata": {},
     "output_type": "execute_result"
    }
   ],
   "source": [
    "hist.tail()"
   ]
  },
  {
   "cell_type": "code",
   "execution_count": 8,
   "id": "impressed-seminar",
   "metadata": {},
   "outputs": [],
   "source": [
    "hist = hist.drop(['conversionType', 'conversionSymbol'], axis = 1)"
   ]
  },
  {
   "cell_type": "code",
   "execution_count": 9,
   "id": "opponent-agent",
   "metadata": {},
   "outputs": [],
   "source": [
    "def train_test_split(df, test_size=0.2):\n",
    "    split_row = len(df) - int(test_size * len(df))\n",
    "    train_data = df.iloc[:split_row]\n",
    "    test_data = df.iloc[split_row:]\n",
    "    return train_data, test_data\n",
    "train, test = train_test_split(hist, test_size=0.2)"
   ]
  },
  {
   "cell_type": "code",
   "execution_count": 10,
   "id": "dense-precipitation",
   "metadata": {},
   "outputs": [
    {
     "name": "stdout",
     "output_type": "stream",
     "text": [
      "                high       low      open  volumefrom      volumeto     close\n",
      "time                                                                        \n",
      "2020-07-17   9183.08   9080.61   9133.23    20542.60  1.877101e+08   9156.79\n",
      "2020-07-18   9205.94   9125.92   9156.79    11952.82  1.095633e+08   9177.22\n",
      "2020-07-19   9238.30   9113.41   9177.22    12797.83  1.172980e+08   9216.02\n",
      "2020-07-20   9224.76   9136.90   9216.02    18729.90  1.718770e+08   9164.42\n",
      "2020-07-21   9435.55   9162.25   9164.42    34505.35  3.376457e+08   9392.83\n",
      "...              ...       ...       ...         ...           ...       ...\n",
      "2021-08-17  47100.97  44438.79  45927.40    37125.87  1.700658e+09  44684.43\n",
      "2021-08-18  46024.97  44240.90  44684.43    30513.78  1.377529e+09  44714.54\n",
      "2021-08-19  47044.06  43982.21  44714.54    33300.50  1.511028e+09  46761.49\n",
      "2021-08-20  49377.50  46652.00  46761.49    36326.20  1.742574e+09  49336.45\n",
      "2021-08-21  49809.82  48330.03  49336.45    22928.52  1.125509e+09  48867.87\n",
      "\n",
      "[401 rows x 6 columns]\n"
     ]
    }
   ],
   "source": [
    "print(train)"
   ]
  },
  {
   "cell_type": "code",
   "execution_count": null,
   "id": "scenic-vintage",
   "metadata": {},
   "outputs": [],
   "source": []
  },
  {
   "cell_type": "code",
   "execution_count": 11,
   "id": "medium-offering",
   "metadata": {},
   "outputs": [
    {
     "data": {
      "image/png": "[encoded data removed]",
      "text/plain": [
       "<Figure size 936x504 with 1 Axes>"
      ]
     },
     "metadata": {
      "needs_background": "light"
     },
     "output_type": "display_data"
    }
   ],
   "source": [
    "def line_plot(line1, line2, label1=None, label2=None, title='', lw=2):\n",
    "    fig, ax = plt.subplots(1, figsize=(13, 7))\n",
    "    ax.plot(line1, label=label1, linewidth=lw)\n",
    "    ax.plot(line2, label=label2, linewidth=lw)\n",
    "    ax.set_ylabel('price [CAD]', fontsize=14)\n",
    "    ax.set_title(title, fontsize=16)\n",
    "    ax.legend(loc='best', fontsize=16)\n",
    "line_plot(train[target_col], test[target_col], 'training', 'test', title='')"
   ]
  },
  {
   "cell_type": "code",
   "execution_count": 12,
   "id": "detailed-rocket",
   "metadata": {},
   "outputs": [],
   "source": [
    "def normalise_zero_base(df):\n",
    "    return df / df.iloc[0] - 1\n",
    "\n",
    "def normalise_min_max(df):\n",
    "    return (df - df.min()) / (data.max() - df.min())"
   ]
  },
  {
   "cell_type": "code",
   "execution_count": 13,
   "id": "adopted-holder",
   "metadata": {},
   "outputs": [],
   "source": [
    "def extract_window_data(df, window_len=5, zero_base=True):\n",
    "    window_data = []\n",
    "    for idx in range(len(df) - window_len):\n",
    "        tmp = df[idx: (idx + window_len)].copy()\n",
    "        if zero_base:\n",
    "            tmp = normalise_zero_base(tmp)\n",
    "        window_data.append(tmp.values)\n",
    "    return np.array(window_data)"
   ]
  },
  {
   "cell_type": "code",
   "execution_count": 14,
   "id": "united-senator",
   "metadata": {},
   "outputs": [],
   "source": [
    "def prepare_data(df, target_col, window_len=10, zero_base=True, test_size=0.2):\n",
    "    train_data, test_data = train_test_split(df, test_size=test_size)\n",
    "    X_train = extract_window_data(train_data, window_len, zero_base)\n",
    "    X_test = extract_window_data(test_data, window_len, zero_base)\n",
    "    y_train = train_data[target_col][window_len:].values\n",
    "    y_test = test_data[target_col][window_len:].values\n",
    "    if zero_base:\n",
    "        y_train = y_train / train_data[target_col][:-window_len].values - 1\n",
    "        y_test = y_test / test_data[target_col][:-window_len].values - 1\n",
    "\n",
    "    return train_data, test_data, X_train, X_test, y_train, y_test"
   ]
  },
  {
   "cell_type": "code",
   "execution_count": 15,
   "id": "accessory-suicide",
   "metadata": {},
   "outputs": [],
   "source": [
    "def build_lstm_model(input_data, output_size, neurons=100, activ_func='linear', dropout=0.2, loss='mse', optimizer='adam'):\n",
    "    model = Sequential()\n",
    "    model.add(LSTM(neurons, input_shape=(input_data.shape[1], input_data.shape[2])))\n",
    "    model.add(Dropout(dropout))\n",
    "    model.add(Dense(units=output_size))\n",
    "    model.add(Activation(activ_func))\n",
    "    model.compile(loss=loss, optimizer=optimizer)\n",
    "    return model"
   ]
  },
  {
   "cell_type": "code",
   "execution_count": 16,
   "id": "written-drill",
   "metadata": {},
   "outputs": [],
   "source": [
    "np.random.seed(42)\n",
    "window_len = 5\n",
    "test_size = 0.2\n",
    "zero_base = True\n",
    "lstm_neurons = 100\n",
    "epochs = 20\n",
    "batch_size = 32\n",
    "loss = 'mse'\n",
    "dropout = 0.2\n",
    "optimizer = 'adam'"
   ]
  },
  {
   "cell_type": "code",
   "execution_count": 17,
   "id": "honey-jaguar",
   "metadata": {},
   "outputs": [
    {
     "name": "stdout",
     "output_type": "stream",
     "text": [
      "Epoch 1/20\n",
      "13/13 [==============================] - 2s 6ms/step - loss: 0.0091\n",
      "Epoch 2/20\n",
      "13/13 [==============================] - 0s 6ms/step - loss: 0.0055\n",
      "Epoch 3/20\n",
      "13/13 [==============================] - 0s 6ms/step - loss: 0.0047\n",
      "Epoch 4/20\n",
      "13/13 [==============================] - 0s 6ms/step - loss: 0.0036\n",
      "Epoch 5/20\n",
      "13/13 [==============================] - 0s 6ms/step - loss: 0.0035\n",
      "Epoch 6/20\n",
      "13/13 [==============================] - 0s 7ms/step - loss: 0.0034\n",
      "Epoch 7/20\n",
      "13/13 [==============================] - 0s 6ms/step - loss: 0.0031\n",
      "Epoch 8/20\n",
      "13/13 [==============================] - 0s 5ms/step - loss: 0.0029\n",
      "Epoch 9/20\n",
      "13/13 [==============================] - 0s 5ms/step - loss: 0.0030\n",
      "Epoch 10/20\n",
      "13/13 [==============================] - 0s 5ms/step - loss: 0.0031\n",
      "Epoch 11/20\n",
      "13/13 [==============================] - 0s 6ms/step - loss: 0.0040\n",
      "Epoch 12/20\n",
      "13/13 [==============================] - 0s 6ms/step - loss: 0.0028\n",
      "Epoch 13/20\n",
      "13/13 [==============================] - 0s 8ms/step - loss: 0.0027\n",
      "Epoch 14/20\n",
      "13/13 [==============================] - 0s 6ms/step - loss: 0.0028\n",
      "Epoch 15/20\n",
      "13/13 [==============================] - 0s 5ms/step - loss: 0.0028\n",
      "Epoch 16/20\n",
      "13/13 [==============================] - 0s 5ms/step - loss: 0.0024\n",
      "Epoch 17/20\n",
      "13/13 [==============================] - 0s 5ms/step - loss: 0.0024\n",
      "Epoch 18/20\n",
      "13/13 [==============================] - 0s 6ms/step - loss: 0.0025\n",
      "Epoch 19/20\n",
      "13/13 [==============================] - 0s 5ms/step - loss: 0.0023\n",
      "Epoch 20/20\n",
      "13/13 [==============================] - 0s 5ms/step - loss: 0.0021\n"
     ]
    }
   ],
   "source": [
    "train, test, X_train, X_test, y_train, y_test = prepare_data(\n",
    "    hist, target_col, window_len=window_len, zero_base=zero_base, test_size=test_size)\n",
    "model = build_lstm_model(\n",
    "    X_train, output_size=1, neurons=lstm_neurons, dropout=dropout, loss=loss,\n",
    "    optimizer=optimizer)\n",
    "history = model.fit(\n",
    "    X_train, y_train, epochs=epochs, batch_size=batch_size, verbose=1, shuffle=True)"
   ]
  },
  {
   "cell_type": "code",
   "execution_count": 18,
   "id": "changed-ecology",
   "metadata": {},
   "outputs": [
    {
     "name": "stderr",
     "output_type": "stream",
     "text": [
      "WARNING:absl:Found untraced functions such as lstm_cell_layer_call_fn, lstm_cell_layer_call_and_return_conditional_losses, lstm_cell_layer_call_fn, lstm_cell_layer_call_and_return_conditional_losses, lstm_cell_layer_call_and_return_conditional_losses while saving (showing 5 of 5). These functions will not be directly callable after loading.\n"
     ]
    },
    {
     "name": "stdout",
     "output_type": "stream",
     "text": [
      "INFO:tensorflow:Assets written to: ram://d19ac1bc-5560-4304-90cb-fa1b7b8c97dd/assets\n"
     ]
    },
    {
     "name": "stderr",
     "output_type": "stream",
     "text": [
      "INFO:tensorflow:Assets written to: ram://d19ac1bc-5560-4304-90cb-fa1b7b8c97dd/assets\n",
      "WARNING:absl:<keras.layers.recurrent.LSTMCell object at 0x7fdeb0213190> has the same name 'LSTMCell' as a built-in Keras object. Consider renaming <class 'keras.layers.recurrent.LSTMCell'> to avoid naming conflicts when loading with `tf.keras.models.load_model`. If renaming is not possible, pass the object in the `custom_objects` parameter of the load function.\n"
     ]
    }
   ],
   "source": [
    "# save the model to disk\n",
    "filename = 'finalized_LSTM_model.sav'\n",
    "pickle.dump(model, open(filename, 'wb'))"
   ]
  },
  {
   "cell_type": "code",
   "execution_count": 19,
   "id": "crazy-ivory",
   "metadata": {},
   "outputs": [
    {
     "name": "stdout",
     "output_type": "stream",
     "text": [
      "Mean absolute  error :  0.03139032561327207\n"
     ]
    }
   ],
   "source": [
    "targets = test[target_col][window_len:]\n",
    "preds = model.predict(X_test).squeeze()\n",
    "mae = mean_absolute_error(preds, y_test)\n",
    "print(\"Mean absolute  error : \", mae)"
   ]
  },
  {
   "cell_type": "code",
   "execution_count": 20,
   "id": "dressed-factor",
   "metadata": {},
   "outputs": [
    {
     "name": "stdout",
     "output_type": "stream",
     "text": [
      "Mean absolute percentage error :  4.146599367199118\n"
     ]
    }
   ],
   "source": [
    "from sklearn.metrics import mean_absolute_percentage_error\n",
    "\n",
    "targets = test[target_col][window_len:]\n",
    "preds = model.predict(X_test).squeeze()\n",
    "mape = mean_absolute_percentage_error(preds, y_test)\n",
    "print(\"Mean absolute percentage error : \", mape)"
   ]
  },
  {
   "cell_type": "code",
   "execution_count": 21,
   "id": "extensive-clerk",
   "metadata": {},
   "outputs": [
    {
     "name": "stdout",
     "output_type": "stream",
     "text": [
      "R2 error 0.6698739028508626\n"
     ]
    }
   ],
   "source": [
    "from sklearn.metrics import r2_score\n",
    "\n",
    "preds = model.predict(X_test).squeeze()\n",
    "r2 = r2_score(y_test, preds)\n",
    "print(\"R2 error\", r2)"
   ]
  },
  {
   "cell_type": "code",
   "execution_count": 22,
   "id": "passing-solution",
   "metadata": {},
   "outputs": [
    {
     "name": "stdout",
     "output_type": "stream",
     "text": [
      "Mean Squered Error : 0.0017272997541752674\n",
      "Root Mean Squered Error : 0.041560795879954794\n"
     ]
    }
   ],
   "source": [
    "from sklearn.metrics import mean_squared_error\n",
    "import math\n",
    "\n",
    "preds = model.predict(X_test).squeeze()\n",
    "mse = mean_squared_error(y_test, preds)\n",
    "rmse = math.sqrt(mse)\n",
    "print(\"Mean Squered Error :\", mse)\n",
    "print(\"Root Mean Squered Error :\",rmse)"
   ]
  },
  {
   "cell_type": "code",
   "execution_count": 23,
   "id": "occupational-posting",
   "metadata": {},
   "outputs": [
    {
     "data": {
      "image/png": "[encoded data removed]",
      "text/plain": [
       "<Figure size 936x504 with 1 Axes>"
      ]
     },
     "metadata": {
      "needs_background": "light"
     },
     "output_type": "display_data"
    }
   ],
   "source": [
    "preds = test[target_col].values[:-window_len] * (preds + 1)\n",
    "preds = pd.Series(index=targets.index, data=preds)\n",
    "line_plot(targets, preds, 'actual', 'prediction', lw=3)"
   ]
  },
  {
   "cell_type": "code",
   "execution_count": null,
   "id": "attempted-fleet",
   "metadata": {},
   "outputs": [],
   "source": []
  }
 ],
 "metadata": {
  "kernelspec": {
   "display_name": "Python 3",
   "language": "python",
   "name": "python3"
  },
  "language_info": {
   "codemirror_mode": {
    "name": "ipython",
    "version": 3
   },
   "file_extension": ".py",
   "mimetype": "text/x-python",
   "name": "python",
   "nbconvert_exporter": "python",
   "pygments_lexer": "ipython3",
   "version": "3.9.1"
  }
 },
 "nbformat": 4,
 "nbformat_minor": 5
}
