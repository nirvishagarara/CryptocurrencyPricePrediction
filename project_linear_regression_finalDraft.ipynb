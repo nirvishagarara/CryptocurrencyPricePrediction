{
 "cells": [
  {
   "cell_type": "markdown",
   "id": "english-fireplace",
   "metadata": {},
   "source": [
    "# Bitcoin price prediction using Linear Regression "
   ]
  },
  {
   "cell_type": "markdown",
   "id": "impossible-velvet",
   "metadata": {},
   "source": [
    "Importing libraries"
   ]
  },
  {
   "cell_type": "code",
   "execution_count": 123,
   "id": "physical-bronze",
   "metadata": {},
   "outputs": [],
   "source": [
    "import json\n",
    "import requests\n",
    "import matplotlib.pyplot as plt\n",
    "import numpy as np\n",
    "import pandas as pd\n",
    "import seaborn as sns\n",
    "from sklearn.metrics import mean_absolute_error\n",
    "%matplotlib inline\n",
    "import pickle"
   ]
  },
  {
   "cell_type": "markdown",
   "id": "spectacular-group",
   "metadata": {},
   "source": [
    "Getting the data in real-time each day"
   ]
  },
  {
   "cell_type": "code",
   "execution_count": 124,
   "id": "arabic-while",
   "metadata": {},
   "outputs": [],
   "source": [
    "endpoint = 'https://min-api.cryptocompare.com/data/histoday'\n",
    "res = requests.get(endpoint + '?fsym=BTC&tsym=USD&limit=2000')\n",
    "df = pd.DataFrame(json.loads(res.content)['Data'])"
   ]
  },
  {
   "cell_type": "markdown",
   "id": "subsequent-finder",
   "metadata": {},
   "source": [
    "The data in dataframe"
   ]
  },
  {
   "cell_type": "code",
   "execution_count": 125,
   "id": "acoustic-hunter",
   "metadata": {
    "scrolled": true
   },
   "outputs": [
    {
     "data": {
      "text/html": [
       "<div>\n",
       "<style scoped>\n",
       "    .dataframe tbody tr th:only-of-type {\n",
       "        vertical-align: middle;\n",
       "    }\n",
       "\n",
       "    .dataframe tbody tr th {\n",
       "        vertical-align: top;\n",
       "    }\n",
       "\n",
       "    .dataframe thead th {\n",
       "        text-align: right;\n",
       "    }\n",
       "</style>\n",
       "<table border=\"1\" class=\"dataframe\">\n",
       "  <thead>\n",
       "    <tr style=\"text-align: right;\">\n",
       "      <th></th>\n",
       "      <th>time</th>\n",
       "      <th>high</th>\n",
       "      <th>low</th>\n",
       "      <th>open</th>\n",
       "      <th>volumefrom</th>\n",
       "      <th>volumeto</th>\n",
       "      <th>close</th>\n",
       "      <th>conversionType</th>\n",
       "      <th>conversionSymbol</th>\n",
       "    </tr>\n",
       "  </thead>\n",
       "  <tbody>\n",
       "    <tr>\n",
       "      <th>0</th>\n",
       "      <td>1465344000</td>\n",
       "      <td>582.44</td>\n",
       "      <td>567.78</td>\n",
       "      <td>575.58</td>\n",
       "      <td>49604.16</td>\n",
       "      <td>2.870622e+07</td>\n",
       "      <td>580.51</td>\n",
       "      <td>direct</td>\n",
       "      <td></td>\n",
       "    </tr>\n",
       "    <tr>\n",
       "      <th>1</th>\n",
       "      <td>1465430400</td>\n",
       "      <td>580.71</td>\n",
       "      <td>569.26</td>\n",
       "      <td>580.51</td>\n",
       "      <td>48613.35</td>\n",
       "      <td>2.801058e+07</td>\n",
       "      <td>574.69</td>\n",
       "      <td>direct</td>\n",
       "      <td></td>\n",
       "    </tr>\n",
       "    <tr>\n",
       "      <th>2</th>\n",
       "      <td>1465516800</td>\n",
       "      <td>579.26</td>\n",
       "      <td>571.14</td>\n",
       "      <td>574.69</td>\n",
       "      <td>45501.86</td>\n",
       "      <td>2.629087e+07</td>\n",
       "      <td>577.89</td>\n",
       "      <td>direct</td>\n",
       "      <td></td>\n",
       "    </tr>\n",
       "    <tr>\n",
       "      <th>3</th>\n",
       "      <td>1465603200</td>\n",
       "      <td>592.61</td>\n",
       "      <td>576.29</td>\n",
       "      <td>577.89</td>\n",
       "      <td>42217.02</td>\n",
       "      <td>2.479044e+07</td>\n",
       "      <td>591.60</td>\n",
       "      <td>direct</td>\n",
       "      <td></td>\n",
       "    </tr>\n",
       "    <tr>\n",
       "      <th>4</th>\n",
       "      <td>1465689600</td>\n",
       "      <td>683.85</td>\n",
       "      <td>592.79</td>\n",
       "      <td>591.60</td>\n",
       "      <td>217379.53</td>\n",
       "      <td>1.396846e+08</td>\n",
       "      <td>666.55</td>\n",
       "      <td>direct</td>\n",
       "      <td></td>\n",
       "    </tr>\n",
       "    <tr>\n",
       "      <th>...</th>\n",
       "      <td>...</td>\n",
       "      <td>...</td>\n",
       "      <td>...</td>\n",
       "      <td>...</td>\n",
       "      <td>...</td>\n",
       "      <td>...</td>\n",
       "      <td>...</td>\n",
       "      <td>...</td>\n",
       "      <td>...</td>\n",
       "    </tr>\n",
       "    <tr>\n",
       "      <th>1996</th>\n",
       "      <td>1637798400</td>\n",
       "      <td>59437.04</td>\n",
       "      <td>57056.64</td>\n",
       "      <td>57175.09</td>\n",
       "      <td>24221.47</td>\n",
       "      <td>1.412787e+09</td>\n",
       "      <td>58966.99</td>\n",
       "      <td>direct</td>\n",
       "      <td></td>\n",
       "    </tr>\n",
       "    <tr>\n",
       "      <th>1997</th>\n",
       "      <td>1637884800</td>\n",
       "      <td>59201.95</td>\n",
       "      <td>53575.54</td>\n",
       "      <td>58966.99</td>\n",
       "      <td>60064.72</td>\n",
       "      <td>3.312563e+09</td>\n",
       "      <td>53788.22</td>\n",
       "      <td>direct</td>\n",
       "      <td></td>\n",
       "    </tr>\n",
       "    <tr>\n",
       "      <th>1998</th>\n",
       "      <td>1637971200</td>\n",
       "      <td>55316.65</td>\n",
       "      <td>53668.95</td>\n",
       "      <td>53788.22</td>\n",
       "      <td>18504.73</td>\n",
       "      <td>1.010586e+09</td>\n",
       "      <td>54805.03</td>\n",
       "      <td>direct</td>\n",
       "      <td></td>\n",
       "    </tr>\n",
       "    <tr>\n",
       "      <th>1999</th>\n",
       "      <td>1638057600</td>\n",
       "      <td>57475.26</td>\n",
       "      <td>53436.05</td>\n",
       "      <td>54805.03</td>\n",
       "      <td>21562.34</td>\n",
       "      <td>1.186995e+09</td>\n",
       "      <td>57331.41</td>\n",
       "      <td>direct</td>\n",
       "      <td></td>\n",
       "    </tr>\n",
       "    <tr>\n",
       "      <th>2000</th>\n",
       "      <td>1638144000</td>\n",
       "      <td>58267.05</td>\n",
       "      <td>57198.89</td>\n",
       "      <td>57331.41</td>\n",
       "      <td>6124.68</td>\n",
       "      <td>3.531398e+08</td>\n",
       "      <td>57338.80</td>\n",
       "      <td>direct</td>\n",
       "      <td></td>\n",
       "    </tr>\n",
       "  </tbody>\n",
       "</table>\n",
       "<p>2001 rows × 9 columns</p>\n",
       "</div>"
      ],
      "text/plain": [
       "            time      high       low      open  volumefrom      volumeto  \\\n",
       "0     1465344000    582.44    567.78    575.58    49604.16  2.870622e+07   \n",
       "1     1465430400    580.71    569.26    580.51    48613.35  2.801058e+07   \n",
       "2     1465516800    579.26    571.14    574.69    45501.86  2.629087e+07   \n",
       "3     1465603200    592.61    576.29    577.89    42217.02  2.479044e+07   \n",
       "4     1465689600    683.85    592.79    591.60   217379.53  1.396846e+08   \n",
       "...          ...       ...       ...       ...         ...           ...   \n",
       "1996  1637798400  59437.04  57056.64  57175.09    24221.47  1.412787e+09   \n",
       "1997  1637884800  59201.95  53575.54  58966.99    60064.72  3.312563e+09   \n",
       "1998  1637971200  55316.65  53668.95  53788.22    18504.73  1.010586e+09   \n",
       "1999  1638057600  57475.26  53436.05  54805.03    21562.34  1.186995e+09   \n",
       "2000  1638144000  58267.05  57198.89  57331.41     6124.68  3.531398e+08   \n",
       "\n",
       "         close conversionType conversionSymbol  \n",
       "0       580.51         direct                   \n",
       "1       574.69         direct                   \n",
       "2       577.89         direct                   \n",
       "3       591.60         direct                   \n",
       "4       666.55         direct                   \n",
       "...        ...            ...              ...  \n",
       "1996  58966.99         direct                   \n",
       "1997  53788.22         direct                   \n",
       "1998  54805.03         direct                   \n",
       "1999  57331.41         direct                   \n",
       "2000  57338.80         direct                   \n",
       "\n",
       "[2001 rows x 9 columns]"
      ]
     },
     "execution_count": 125,
     "metadata": {},
     "output_type": "execute_result"
    }
   ],
   "source": [
    "df"
   ]
  },
  {
   "cell_type": "markdown",
   "id": "close-laugh",
   "metadata": {},
   "source": [
    "changing the date format"
   ]
  },
  {
   "cell_type": "code",
   "execution_count": 126,
   "id": "increased-commission",
   "metadata": {},
   "outputs": [],
   "source": [
    "df.index = pd.to_datetime(df.index, unit='s')"
   ]
  },
  {
   "cell_type": "code",
   "execution_count": 127,
   "id": "right-victor",
   "metadata": {},
   "outputs": [
    {
     "data": {
      "text/html": [
       "<div>\n",
       "<style scoped>\n",
       "    .dataframe tbody tr th:only-of-type {\n",
       "        vertical-align: middle;\n",
       "    }\n",
       "\n",
       "    .dataframe tbody tr th {\n",
       "        vertical-align: top;\n",
       "    }\n",
       "\n",
       "    .dataframe thead th {\n",
       "        text-align: right;\n",
       "    }\n",
       "</style>\n",
       "<table border=\"1\" class=\"dataframe\">\n",
       "  <thead>\n",
       "    <tr style=\"text-align: right;\">\n",
       "      <th></th>\n",
       "      <th>time</th>\n",
       "      <th>high</th>\n",
       "      <th>low</th>\n",
       "      <th>open</th>\n",
       "      <th>volumefrom</th>\n",
       "      <th>volumeto</th>\n",
       "      <th>close</th>\n",
       "      <th>conversionType</th>\n",
       "      <th>conversionSymbol</th>\n",
       "    </tr>\n",
       "  </thead>\n",
       "  <tbody>\n",
       "    <tr>\n",
       "      <th>1970-01-01 00:00:00</th>\n",
       "      <td>1465344000</td>\n",
       "      <td>582.44</td>\n",
       "      <td>567.78</td>\n",
       "      <td>575.58</td>\n",
       "      <td>49604.16</td>\n",
       "      <td>2.870622e+07</td>\n",
       "      <td>580.51</td>\n",
       "      <td>direct</td>\n",
       "      <td></td>\n",
       "    </tr>\n",
       "    <tr>\n",
       "      <th>1970-01-01 00:00:01</th>\n",
       "      <td>1465430400</td>\n",
       "      <td>580.71</td>\n",
       "      <td>569.26</td>\n",
       "      <td>580.51</td>\n",
       "      <td>48613.35</td>\n",
       "      <td>2.801058e+07</td>\n",
       "      <td>574.69</td>\n",
       "      <td>direct</td>\n",
       "      <td></td>\n",
       "    </tr>\n",
       "    <tr>\n",
       "      <th>1970-01-01 00:00:02</th>\n",
       "      <td>1465516800</td>\n",
       "      <td>579.26</td>\n",
       "      <td>571.14</td>\n",
       "      <td>574.69</td>\n",
       "      <td>45501.86</td>\n",
       "      <td>2.629087e+07</td>\n",
       "      <td>577.89</td>\n",
       "      <td>direct</td>\n",
       "      <td></td>\n",
       "    </tr>\n",
       "    <tr>\n",
       "      <th>1970-01-01 00:00:03</th>\n",
       "      <td>1465603200</td>\n",
       "      <td>592.61</td>\n",
       "      <td>576.29</td>\n",
       "      <td>577.89</td>\n",
       "      <td>42217.02</td>\n",
       "      <td>2.479044e+07</td>\n",
       "      <td>591.60</td>\n",
       "      <td>direct</td>\n",
       "      <td></td>\n",
       "    </tr>\n",
       "    <tr>\n",
       "      <th>1970-01-01 00:00:04</th>\n",
       "      <td>1465689600</td>\n",
       "      <td>683.85</td>\n",
       "      <td>592.79</td>\n",
       "      <td>591.60</td>\n",
       "      <td>217379.53</td>\n",
       "      <td>1.396846e+08</td>\n",
       "      <td>666.55</td>\n",
       "      <td>direct</td>\n",
       "      <td></td>\n",
       "    </tr>\n",
       "    <tr>\n",
       "      <th>...</th>\n",
       "      <td>...</td>\n",
       "      <td>...</td>\n",
       "      <td>...</td>\n",
       "      <td>...</td>\n",
       "      <td>...</td>\n",
       "      <td>...</td>\n",
       "      <td>...</td>\n",
       "      <td>...</td>\n",
       "      <td>...</td>\n",
       "    </tr>\n",
       "    <tr>\n",
       "      <th>1970-01-01 00:33:16</th>\n",
       "      <td>1637798400</td>\n",
       "      <td>59437.04</td>\n",
       "      <td>57056.64</td>\n",
       "      <td>57175.09</td>\n",
       "      <td>24221.47</td>\n",
       "      <td>1.412787e+09</td>\n",
       "      <td>58966.99</td>\n",
       "      <td>direct</td>\n",
       "      <td></td>\n",
       "    </tr>\n",
       "    <tr>\n",
       "      <th>1970-01-01 00:33:17</th>\n",
       "      <td>1637884800</td>\n",
       "      <td>59201.95</td>\n",
       "      <td>53575.54</td>\n",
       "      <td>58966.99</td>\n",
       "      <td>60064.72</td>\n",
       "      <td>3.312563e+09</td>\n",
       "      <td>53788.22</td>\n",
       "      <td>direct</td>\n",
       "      <td></td>\n",
       "    </tr>\n",
       "    <tr>\n",
       "      <th>1970-01-01 00:33:18</th>\n",
       "      <td>1637971200</td>\n",
       "      <td>55316.65</td>\n",
       "      <td>53668.95</td>\n",
       "      <td>53788.22</td>\n",
       "      <td>18504.73</td>\n",
       "      <td>1.010586e+09</td>\n",
       "      <td>54805.03</td>\n",
       "      <td>direct</td>\n",
       "      <td></td>\n",
       "    </tr>\n",
       "    <tr>\n",
       "      <th>1970-01-01 00:33:19</th>\n",
       "      <td>1638057600</td>\n",
       "      <td>57475.26</td>\n",
       "      <td>53436.05</td>\n",
       "      <td>54805.03</td>\n",
       "      <td>21562.34</td>\n",
       "      <td>1.186995e+09</td>\n",
       "      <td>57331.41</td>\n",
       "      <td>direct</td>\n",
       "      <td></td>\n",
       "    </tr>\n",
       "    <tr>\n",
       "      <th>1970-01-01 00:33:20</th>\n",
       "      <td>1638144000</td>\n",
       "      <td>58267.05</td>\n",
       "      <td>57198.89</td>\n",
       "      <td>57331.41</td>\n",
       "      <td>6124.68</td>\n",
       "      <td>3.531398e+08</td>\n",
       "      <td>57338.80</td>\n",
       "      <td>direct</td>\n",
       "      <td></td>\n",
       "    </tr>\n",
       "  </tbody>\n",
       "</table>\n",
       "<p>2001 rows × 9 columns</p>\n",
       "</div>"
      ],
      "text/plain": [
       "                           time      high       low      open  volumefrom  \\\n",
       "1970-01-01 00:00:00  1465344000    582.44    567.78    575.58    49604.16   \n",
       "1970-01-01 00:00:01  1465430400    580.71    569.26    580.51    48613.35   \n",
       "1970-01-01 00:00:02  1465516800    579.26    571.14    574.69    45501.86   \n",
       "1970-01-01 00:00:03  1465603200    592.61    576.29    577.89    42217.02   \n",
       "1970-01-01 00:00:04  1465689600    683.85    592.79    591.60   217379.53   \n",
       "...                         ...       ...       ...       ...         ...   \n",
       "1970-01-01 00:33:16  1637798400  59437.04  57056.64  57175.09    24221.47   \n",
       "1970-01-01 00:33:17  1637884800  59201.95  53575.54  58966.99    60064.72   \n",
       "1970-01-01 00:33:18  1637971200  55316.65  53668.95  53788.22    18504.73   \n",
       "1970-01-01 00:33:19  1638057600  57475.26  53436.05  54805.03    21562.34   \n",
       "1970-01-01 00:33:20  1638144000  58267.05  57198.89  57331.41     6124.68   \n",
       "\n",
       "                         volumeto     close conversionType conversionSymbol  \n",
       "1970-01-01 00:00:00  2.870622e+07    580.51         direct                   \n",
       "1970-01-01 00:00:01  2.801058e+07    574.69         direct                   \n",
       "1970-01-01 00:00:02  2.629087e+07    577.89         direct                   \n",
       "1970-01-01 00:00:03  2.479044e+07    591.60         direct                   \n",
       "1970-01-01 00:00:04  1.396846e+08    666.55         direct                   \n",
       "...                           ...       ...            ...              ...  \n",
       "1970-01-01 00:33:16  1.412787e+09  58966.99         direct                   \n",
       "1970-01-01 00:33:17  3.312563e+09  53788.22         direct                   \n",
       "1970-01-01 00:33:18  1.010586e+09  54805.03         direct                   \n",
       "1970-01-01 00:33:19  1.186995e+09  57331.41         direct                   \n",
       "1970-01-01 00:33:20  3.531398e+08  57338.80         direct                   \n",
       "\n",
       "[2001 rows x 9 columns]"
      ]
     },
     "execution_count": 127,
     "metadata": {},
     "output_type": "execute_result"
    }
   ],
   "source": [
    "df"
   ]
  },
  {
   "cell_type": "markdown",
   "id": "careful-florence",
   "metadata": {},
   "source": [
    "dropping the irelevent columns like conversion type and conversion symbol"
   ]
  },
  {
   "cell_type": "code",
   "execution_count": 128,
   "id": "accessory-garden",
   "metadata": {},
   "outputs": [],
   "source": [
    "df = df.drop(['conversionType', 'conversionSymbol'], axis = 1)"
   ]
  },
  {
   "cell_type": "markdown",
   "id": "residential-hearts",
   "metadata": {},
   "source": [
    "dropping the time column which does not have effect on the prices columns"
   ]
  },
  {
   "cell_type": "code",
   "execution_count": 129,
   "id": "indirect-catalyst",
   "metadata": {},
   "outputs": [],
   "source": [
    "df = df.drop('time', axis = 1)"
   ]
  },
  {
   "cell_type": "code",
   "execution_count": 130,
   "id": "solar-protest",
   "metadata": {},
   "outputs": [
    {
     "data": {
      "text/html": [
       "<div>\n",
       "<style scoped>\n",
       "    .dataframe tbody tr th:only-of-type {\n",
       "        vertical-align: middle;\n",
       "    }\n",
       "\n",
       "    .dataframe tbody tr th {\n",
       "        vertical-align: top;\n",
       "    }\n",
       "\n",
       "    .dataframe thead th {\n",
       "        text-align: right;\n",
       "    }\n",
       "</style>\n",
       "<table border=\"1\" class=\"dataframe\">\n",
       "  <thead>\n",
       "    <tr style=\"text-align: right;\">\n",
       "      <th></th>\n",
       "      <th>high</th>\n",
       "      <th>low</th>\n",
       "      <th>open</th>\n",
       "      <th>volumefrom</th>\n",
       "      <th>volumeto</th>\n",
       "      <th>close</th>\n",
       "    </tr>\n",
       "  </thead>\n",
       "  <tbody>\n",
       "    <tr>\n",
       "      <th>1970-01-01 00:00:00</th>\n",
       "      <td>582.44</td>\n",
       "      <td>567.78</td>\n",
       "      <td>575.58</td>\n",
       "      <td>49604.16</td>\n",
       "      <td>2.870622e+07</td>\n",
       "      <td>580.51</td>\n",
       "    </tr>\n",
       "    <tr>\n",
       "      <th>1970-01-01 00:00:01</th>\n",
       "      <td>580.71</td>\n",
       "      <td>569.26</td>\n",
       "      <td>580.51</td>\n",
       "      <td>48613.35</td>\n",
       "      <td>2.801058e+07</td>\n",
       "      <td>574.69</td>\n",
       "    </tr>\n",
       "    <tr>\n",
       "      <th>1970-01-01 00:00:02</th>\n",
       "      <td>579.26</td>\n",
       "      <td>571.14</td>\n",
       "      <td>574.69</td>\n",
       "      <td>45501.86</td>\n",
       "      <td>2.629087e+07</td>\n",
       "      <td>577.89</td>\n",
       "    </tr>\n",
       "    <tr>\n",
       "      <th>1970-01-01 00:00:03</th>\n",
       "      <td>592.61</td>\n",
       "      <td>576.29</td>\n",
       "      <td>577.89</td>\n",
       "      <td>42217.02</td>\n",
       "      <td>2.479044e+07</td>\n",
       "      <td>591.60</td>\n",
       "    </tr>\n",
       "    <tr>\n",
       "      <th>1970-01-01 00:00:04</th>\n",
       "      <td>683.85</td>\n",
       "      <td>592.79</td>\n",
       "      <td>591.60</td>\n",
       "      <td>217379.53</td>\n",
       "      <td>1.396846e+08</td>\n",
       "      <td>666.55</td>\n",
       "    </tr>\n",
       "  </tbody>\n",
       "</table>\n",
       "</div>"
      ],
      "text/plain": [
       "                       high     low    open  volumefrom      volumeto   close\n",
       "1970-01-01 00:00:00  582.44  567.78  575.58    49604.16  2.870622e+07  580.51\n",
       "1970-01-01 00:00:01  580.71  569.26  580.51    48613.35  2.801058e+07  574.69\n",
       "1970-01-01 00:00:02  579.26  571.14  574.69    45501.86  2.629087e+07  577.89\n",
       "1970-01-01 00:00:03  592.61  576.29  577.89    42217.02  2.479044e+07  591.60\n",
       "1970-01-01 00:00:04  683.85  592.79  591.60   217379.53  1.396846e+08  666.55"
      ]
     },
     "execution_count": 130,
     "metadata": {},
     "output_type": "execute_result"
    }
   ],
   "source": [
    "df.head()"
   ]
  },
  {
   "cell_type": "code",
   "execution_count": 131,
   "id": "basic-gibraltar",
   "metadata": {},
   "outputs": [
    {
     "data": {
      "text/html": [
       "<div>\n",
       "<style scoped>\n",
       "    .dataframe tbody tr th:only-of-type {\n",
       "        vertical-align: middle;\n",
       "    }\n",
       "\n",
       "    .dataframe tbody tr th {\n",
       "        vertical-align: top;\n",
       "    }\n",
       "\n",
       "    .dataframe thead th {\n",
       "        text-align: right;\n",
       "    }\n",
       "</style>\n",
       "<table border=\"1\" class=\"dataframe\">\n",
       "  <thead>\n",
       "    <tr style=\"text-align: right;\">\n",
       "      <th></th>\n",
       "      <th>high</th>\n",
       "      <th>low</th>\n",
       "      <th>open</th>\n",
       "      <th>volumefrom</th>\n",
       "      <th>volumeto</th>\n",
       "      <th>close</th>\n",
       "    </tr>\n",
       "  </thead>\n",
       "  <tbody>\n",
       "    <tr>\n",
       "      <th>1970-01-01 00:33:16</th>\n",
       "      <td>59437.04</td>\n",
       "      <td>57056.64</td>\n",
       "      <td>57175.09</td>\n",
       "      <td>24221.47</td>\n",
       "      <td>1.412787e+09</td>\n",
       "      <td>58966.99</td>\n",
       "    </tr>\n",
       "    <tr>\n",
       "      <th>1970-01-01 00:33:17</th>\n",
       "      <td>59201.95</td>\n",
       "      <td>53575.54</td>\n",
       "      <td>58966.99</td>\n",
       "      <td>60064.72</td>\n",
       "      <td>3.312563e+09</td>\n",
       "      <td>53788.22</td>\n",
       "    </tr>\n",
       "    <tr>\n",
       "      <th>1970-01-01 00:33:18</th>\n",
       "      <td>55316.65</td>\n",
       "      <td>53668.95</td>\n",
       "      <td>53788.22</td>\n",
       "      <td>18504.73</td>\n",
       "      <td>1.010586e+09</td>\n",
       "      <td>54805.03</td>\n",
       "    </tr>\n",
       "    <tr>\n",
       "      <th>1970-01-01 00:33:19</th>\n",
       "      <td>57475.26</td>\n",
       "      <td>53436.05</td>\n",
       "      <td>54805.03</td>\n",
       "      <td>21562.34</td>\n",
       "      <td>1.186995e+09</td>\n",
       "      <td>57331.41</td>\n",
       "    </tr>\n",
       "    <tr>\n",
       "      <th>1970-01-01 00:33:20</th>\n",
       "      <td>58267.05</td>\n",
       "      <td>57198.89</td>\n",
       "      <td>57331.41</td>\n",
       "      <td>6124.68</td>\n",
       "      <td>3.531398e+08</td>\n",
       "      <td>57338.80</td>\n",
       "    </tr>\n",
       "  </tbody>\n",
       "</table>\n",
       "</div>"
      ],
      "text/plain": [
       "                         high       low      open  volumefrom      volumeto  \\\n",
       "1970-01-01 00:33:16  59437.04  57056.64  57175.09    24221.47  1.412787e+09   \n",
       "1970-01-01 00:33:17  59201.95  53575.54  58966.99    60064.72  3.312563e+09   \n",
       "1970-01-01 00:33:18  55316.65  53668.95  53788.22    18504.73  1.010586e+09   \n",
       "1970-01-01 00:33:19  57475.26  53436.05  54805.03    21562.34  1.186995e+09   \n",
       "1970-01-01 00:33:20  58267.05  57198.89  57331.41     6124.68  3.531398e+08   \n",
       "\n",
       "                        close  \n",
       "1970-01-01 00:33:16  58966.99  \n",
       "1970-01-01 00:33:17  53788.22  \n",
       "1970-01-01 00:33:18  54805.03  \n",
       "1970-01-01 00:33:19  57331.41  \n",
       "1970-01-01 00:33:20  57338.80  "
      ]
     },
     "execution_count": 131,
     "metadata": {},
     "output_type": "execute_result"
    }
   ],
   "source": [
    "df.tail()"
   ]
  },
  {
   "cell_type": "markdown",
   "id": "outside-florida",
   "metadata": {},
   "source": [
    "Splitting the test data as last 30 days data"
   ]
  },
  {
   "cell_type": "code",
   "execution_count": 132,
   "id": "incorporate-advantage",
   "metadata": {},
   "outputs": [],
   "source": [
    "test_df = df[-30:]"
   ]
  },
  {
   "cell_type": "code",
   "execution_count": 133,
   "id": "instant-february",
   "metadata": {},
   "outputs": [],
   "source": [
    "X_test = test_df.iloc[:, [0, 1, 2, 3, 4]].values\n",
    "y_test = test_df.iloc[:, [5]].values"
   ]
  },
  {
   "cell_type": "markdown",
   "id": "instructional-weather",
   "metadata": {},
   "source": [
    "Splitting the train data"
   ]
  },
  {
   "cell_type": "code",
   "execution_count": 134,
   "id": "precious-handle",
   "metadata": {},
   "outputs": [],
   "source": [
    "train_df = df[:len(df)-30]"
   ]
  },
  {
   "cell_type": "code",
   "execution_count": 135,
   "id": "marked-thunder",
   "metadata": {},
   "outputs": [],
   "source": [
    "X = train_df.iloc[:, [0, 1, 2, 3, 4]].values\n",
    "y = train_df.iloc[:, [5]].values"
   ]
  },
  {
   "cell_type": "markdown",
   "id": "widespread-gibraltar",
   "metadata": {},
   "source": [
    "Splitting the train dataset into training and validation set"
   ]
  },
  {
   "cell_type": "code",
   "execution_count": 136,
   "id": "black-habitat",
   "metadata": {},
   "outputs": [],
   "source": [
    "from sklearn.model_selection import train_test_split\n",
    "\n",
    "X_train, X_val, y_train, y_val = train_test_split(X, y, test_size=0.2)"
   ]
  },
  {
   "cell_type": "markdown",
   "id": "fitted-output",
   "metadata": {},
   "source": [
    "Making the model"
   ]
  },
  {
   "cell_type": "code",
   "execution_count": 137,
   "id": "structural-anthony",
   "metadata": {},
   "outputs": [
    {
     "data": {
      "text/plain": [
       "LinearRegression()"
      ]
     },
     "execution_count": 137,
     "metadata": {},
     "output_type": "execute_result"
    }
   ],
   "source": [
    "from sklearn.linear_model import LinearRegression\n",
    "regressor = LinearRegression()\n",
    "regressor.fit(X_train, y_train)"
   ]
  },
  {
   "cell_type": "markdown",
   "id": "extensive-carpet",
   "metadata": {},
   "source": [
    "Saving the model"
   ]
  },
  {
   "cell_type": "code",
   "execution_count": 138,
   "id": "cultural-terrace",
   "metadata": {},
   "outputs": [],
   "source": [
    "# save the model to disk\n",
    "filename = 'finalized_linear_regression_model.sav'\n",
    "pickle.dump(regressor, open(filename, 'wb'))"
   ]
  },
  {
   "cell_type": "markdown",
   "id": "major-legend",
   "metadata": {},
   "source": [
    "prediction using the validation data"
   ]
  },
  {
   "cell_type": "code",
   "execution_count": 139,
   "id": "cooked-signal",
   "metadata": {},
   "outputs": [],
   "source": [
    "#validation data prediction\n",
    "y_val_prediction = regressor.predict(X_val)\n"
   ]
  },
  {
   "cell_type": "code",
   "execution_count": 140,
   "id": "likely-design",
   "metadata": {},
   "outputs": [
    {
     "name": "stdout",
     "output_type": "stream",
     "text": [
      "linear regression validation accuracy:  0.9993960565068991\n"
     ]
    }
   ],
   "source": [
    "#training accuracy\n",
    "\n",
    "lin_regression_confidence = regressor.score(X_val, y_val)\n",
    "print(\"linear regression validation accuracy: \", lin_regression_confidence)"
   ]
  },
  {
   "cell_type": "code",
   "execution_count": 141,
   "id": "composed-hydrogen",
   "metadata": {},
   "outputs": [],
   "source": [
    "#training data prediction\n",
    "y_train_prediction = regressor.predict(X_train)"
   ]
  },
  {
   "cell_type": "code",
   "execution_count": 142,
   "id": "stopped-banner",
   "metadata": {},
   "outputs": [
    {
     "name": "stdout",
     "output_type": "stream",
     "text": [
      "linear regression validation accuracy:  0.9994919272031103\n"
     ]
    }
   ],
   "source": [
    "#training accuracy\n",
    "\n",
    "lin_regression_confidence = regressor.score(X_train, y_train)\n",
    "print(\"linear regression validation accuracy: \", lin_regression_confidence)"
   ]
  },
  {
   "cell_type": "markdown",
   "id": "major-serum",
   "metadata": {},
   "source": [
    "Line Plot for actual and predicted price"
   ]
  },
  {
   "cell_type": "code",
   "execution_count": 143,
   "id": "obvious-copying",
   "metadata": {},
   "outputs": [],
   "source": [
    "def line_plot(line1, line2, label1=None, label2=None, title='', lw=2):\n",
    "    fig, ax = plt.subplots(1, figsize=(13, 7))\n",
    "    ax.plot(line1, label=label1, linewidth=lw)\n",
    "    ax.plot(line2, label=label2, linewidth=lw)\n",
    "    ax.set_ylabel('price [USD]', fontsize=14)\n",
    "    ax.set_title(title, fontsize=16)\n",
    "    ax.legend(loc='best', fontsize=16)"
   ]
  },
  {
   "cell_type": "code",
   "execution_count": 144,
   "id": "mexican-township",
   "metadata": {},
   "outputs": [
    {
     "data": {
      "image/png": "[encoded data removed]",
      "text/plain": [
       "<Figure size 936x504 with 1 Axes>"
      ]
     },
     "metadata": {
      "needs_background": "light"
     },
     "output_type": "display_data"
    }
   ],
   "source": [
    "line_plot(y_val, y_val_prediction, 'y_val', 'y_prediction', lw=3)"
   ]
  },
  {
   "cell_type": "markdown",
   "id": "final-venue",
   "metadata": {},
   "source": [
    "predicting through test data"
   ]
  },
  {
   "cell_type": "code",
   "execution_count": 145,
   "id": "supported-makeup",
   "metadata": {},
   "outputs": [],
   "source": [
    "y_prediction = regressor.predict(X_test)\n"
   ]
  },
  {
   "cell_type": "code",
   "execution_count": 146,
   "id": "buried-emperor",
   "metadata": {},
   "outputs": [
    {
     "name": "stdout",
     "output_type": "stream",
     "text": [
      "[[60757.50084418 61349.75      ]\n",
      " [60876.85274903 60960.98      ]\n",
      " [63401.50537956 63260.05      ]\n",
      " [61780.80261359 62929.93      ]\n",
      " [61306.70969612 61448.47      ]\n",
      " [61709.03976465 61019.66      ]\n",
      " [60583.47451202 61529.76      ]\n",
      " [62620.69941542 63302.78      ]\n",
      " [66908.21354729 67549.14      ]\n",
      " [67320.10923977 66939.24      ]\n",
      " [66006.23623687 64926.06      ]\n",
      " [64659.64424552 64820.8       ]\n",
      " [63441.17890242 64156.3       ]\n",
      " [63973.46615666 64409.56      ]\n",
      " [64450.54966864 65509.06      ]\n",
      " [64519.84019687 63614.06      ]\n",
      " [60280.78775515 60108.9       ]\n",
      " [59572.9219239  60365.6       ]\n",
      " [58273.17033886 56930.68      ]\n",
      " [57154.80342484 58136.22      ]\n",
      " [58853.77795757 59769.66      ]\n",
      " [58885.74740365 58700.83      ]\n",
      " [57074.40863204 56303.06      ]\n",
      " [56939.4441363  57566.6       ]\n",
      " [56373.26382866 57175.09      ]\n",
      " [58765.2969741  58966.99      ]\n",
      " [55432.65003761 53788.22      ]\n",
      " [54741.27932098 54805.03      ]\n",
      " [55842.62522232 57331.41      ]\n",
      " [57670.19970746 57338.8       ]]\n"
     ]
    }
   ],
   "source": [
    "print(np.concatenate((y_prediction.reshape(len(y_prediction),1), y_test.reshape(len(y_test),1)),1))"
   ]
  },
  {
   "cell_type": "code",
   "execution_count": 147,
   "id": "therapeutic-basin",
   "metadata": {},
   "outputs": [
    {
     "name": "stdout",
     "output_type": "stream",
     "text": [
      "Maximum Residual Error : 1644.4300376122847\n"
     ]
    }
   ],
   "source": [
    "from sklearn.metrics import max_error\n",
    "\n",
    "mre = max_error(y_test, y_prediction)\n",
    "print(\"Maximum Residual Error :\", mre)"
   ]
  },
  {
   "cell_type": "code",
   "execution_count": 148,
   "id": "decent-royalty",
   "metadata": {},
   "outputs": [
    {
     "name": "stdout",
     "output_type": "stream",
     "text": [
      "Mean absolute Error : 670.8253184311594\n"
     ]
    }
   ],
   "source": [
    "from sklearn.metrics import mean_absolute_error\n",
    "\n",
    "mae = mean_absolute_error(y_test, y_prediction)\n",
    "print(\"Mean absolute Error :\", mae)"
   ]
  },
  {
   "cell_type": "code",
   "execution_count": 149,
   "id": "international-constant",
   "metadata": {},
   "outputs": [
    {
     "name": "stdout",
     "output_type": "stream",
     "text": [
      "Mean Squered Error : 631607.8020699061\n",
      "Root Mean Squered Error : 794.7375680499231\n"
     ]
    }
   ],
   "source": [
    "from sklearn.metrics import mean_squared_error\n",
    "import math\n",
    "\n",
    "mse = mean_squared_error(y_test, y_prediction)\n",
    "rmse = math.sqrt(mse)\n",
    "print(\"Mean Squered Error :\", mse)\n",
    "print(\"Root Mean Squered Error :\",rmse)"
   ]
  },
  {
   "cell_type": "code",
   "execution_count": 150,
   "id": "prime-layer",
   "metadata": {},
   "outputs": [
    {
     "name": "stdout",
     "output_type": "stream",
     "text": [
      "Mean absolute percentage error :  0.011145119475218391\n"
     ]
    }
   ],
   "source": [
    "from sklearn.metrics import mean_absolute_percentage_error\n",
    "\n",
    "mape = mean_absolute_percentage_error(y_test, y_prediction)\n",
    "print(\"Mean absolute percentage error : \", mape)"
   ]
  },
  {
   "cell_type": "code",
   "execution_count": 151,
   "id": "arbitrary-north",
   "metadata": {},
   "outputs": [
    {
     "name": "stdout",
     "output_type": "stream",
     "text": [
      "R2 error 0.9492633728754551\n"
     ]
    }
   ],
   "source": [
    "from sklearn.metrics import r2_score\n",
    "\n",
    "r2 = r2_score(y_test, y_prediction)\n",
    "print(\"R2 error\", r2)"
   ]
  },
  {
   "cell_type": "code",
   "execution_count": 152,
   "id": "tropical-cooking",
   "metadata": {},
   "outputs": [
    {
     "name": "stdout",
     "output_type": "stream",
     "text": [
      "adjecent R2 error 0.9386932422245083\n"
     ]
    }
   ],
   "source": [
    "#display adjusted R-squared\n",
    "adjecent_r2 = 1 - (1-regressor.score(X_test, y_test))*(len(y_test)-1)/(len(y_test)-X_test.shape[1]-1)\n",
    "print(\"adjecent R2 error\", adjecent_r2)"
   ]
  },
  {
   "cell_type": "code",
   "execution_count": 153,
   "id": "eight-balloon",
   "metadata": {},
   "outputs": [
    {
     "data": {
      "image/png": "[encoded data removed]",
      "text/plain": [
       "<Figure size 936x504 with 1 Axes>"
      ]
     },
     "metadata": {
      "needs_background": "light"
     },
     "output_type": "display_data"
    }
   ],
   "source": [
    "line_plot(y_test, y_prediction, 'y_test', 'y_prediction', lw=3)"
   ]
  },
  {
   "cell_type": "code",
   "execution_count": null,
   "id": "expanded-rugby",
   "metadata": {},
   "outputs": [],
   "source": []
  }
 ],
 "metadata": {
  "kernelspec": {
   "display_name": "Python 3",
   "language": "python",
   "name": "python3"
  },
  "language_info": {
   "codemirror_mode": {
    "name": "ipython",
    "version": 3
   },
   "file_extension": ".py",
   "mimetype": "text/x-python",
   "name": "python",
   "nbconvert_exporter": "python",
   "pygments_lexer": "ipython3",
   "version": "3.9.1"
  }
 },
 "nbformat": 4,
 "nbformat_minor": 5
}
