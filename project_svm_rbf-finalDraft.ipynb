{
 "cells": [
  {
   "cell_type": "markdown",
   "id": "stunning-colonial",
   "metadata": {},
   "source": [
    "# SVR using rbf kernal"
   ]
  },
  {
   "cell_type": "code",
   "execution_count": 4,
   "id": "going-electricity",
   "metadata": {},
   "outputs": [],
   "source": [
    "import json\n",
    "import requests\n",
    "import matplotlib.pyplot as plt\n",
    "import numpy as np\n",
    "import pandas as pd\n",
    "import seaborn as sns\n",
    "from sklearn.metrics import mean_absolute_error\n",
    "%matplotlib inline\n",
    "import pickle"
   ]
  },
  {
   "cell_type": "code",
   "execution_count": 5,
   "id": "quiet-departure",
   "metadata": {},
   "outputs": [],
   "source": [
    "endpoint = 'https://min-api.cryptocompare.com/data/histoday'\n",
    "res = requests.get(endpoint + '?fsym=BTC&tsym=USD&limit=2000')\n",
    "df = pd.DataFrame(json.loads(res.content)['Data'])"
   ]
  },
  {
   "cell_type": "code",
   "execution_count": 6,
   "id": "constitutional-collector",
   "metadata": {},
   "outputs": [],
   "source": [
    "df = df.drop(['conversionType', 'conversionSymbol'], axis = 1)"
   ]
  },
  {
   "cell_type": "code",
   "execution_count": 7,
   "id": "monetary-celebration",
   "metadata": {},
   "outputs": [
    {
     "data": {
      "text/html": [
       "<div>\n",
       "<style scoped>\n",
       "    .dataframe tbody tr th:only-of-type {\n",
       "        vertical-align: middle;\n",
       "    }\n",
       "\n",
       "    .dataframe tbody tr th {\n",
       "        vertical-align: top;\n",
       "    }\n",
       "\n",
       "    .dataframe thead th {\n",
       "        text-align: right;\n",
       "    }\n",
       "</style>\n",
       "<table border=\"1\" class=\"dataframe\">\n",
       "  <thead>\n",
       "    <tr style=\"text-align: right;\">\n",
       "      <th></th>\n",
       "      <th>time</th>\n",
       "      <th>high</th>\n",
       "      <th>low</th>\n",
       "      <th>open</th>\n",
       "      <th>volumefrom</th>\n",
       "      <th>volumeto</th>\n",
       "      <th>close</th>\n",
       "    </tr>\n",
       "  </thead>\n",
       "  <tbody>\n",
       "    <tr>\n",
       "      <th>0</th>\n",
       "      <td>1465344000</td>\n",
       "      <td>582.44</td>\n",
       "      <td>567.78</td>\n",
       "      <td>575.58</td>\n",
       "      <td>49604.16</td>\n",
       "      <td>2.870622e+07</td>\n",
       "      <td>580.51</td>\n",
       "    </tr>\n",
       "    <tr>\n",
       "      <th>1</th>\n",
       "      <td>1465430400</td>\n",
       "      <td>580.71</td>\n",
       "      <td>569.26</td>\n",
       "      <td>580.51</td>\n",
       "      <td>48613.35</td>\n",
       "      <td>2.801058e+07</td>\n",
       "      <td>574.69</td>\n",
       "    </tr>\n",
       "    <tr>\n",
       "      <th>2</th>\n",
       "      <td>1465516800</td>\n",
       "      <td>579.26</td>\n",
       "      <td>571.14</td>\n",
       "      <td>574.69</td>\n",
       "      <td>45501.86</td>\n",
       "      <td>2.629087e+07</td>\n",
       "      <td>577.89</td>\n",
       "    </tr>\n",
       "    <tr>\n",
       "      <th>3</th>\n",
       "      <td>1465603200</td>\n",
       "      <td>592.61</td>\n",
       "      <td>576.29</td>\n",
       "      <td>577.89</td>\n",
       "      <td>42217.02</td>\n",
       "      <td>2.479044e+07</td>\n",
       "      <td>591.60</td>\n",
       "    </tr>\n",
       "    <tr>\n",
       "      <th>4</th>\n",
       "      <td>1465689600</td>\n",
       "      <td>683.85</td>\n",
       "      <td>592.79</td>\n",
       "      <td>591.60</td>\n",
       "      <td>217379.53</td>\n",
       "      <td>1.396846e+08</td>\n",
       "      <td>666.55</td>\n",
       "    </tr>\n",
       "  </tbody>\n",
       "</table>\n",
       "</div>"
      ],
      "text/plain": [
       "         time    high     low    open  volumefrom      volumeto   close\n",
       "0  1465344000  582.44  567.78  575.58    49604.16  2.870622e+07  580.51\n",
       "1  1465430400  580.71  569.26  580.51    48613.35  2.801058e+07  574.69\n",
       "2  1465516800  579.26  571.14  574.69    45501.86  2.629087e+07  577.89\n",
       "3  1465603200  592.61  576.29  577.89    42217.02  2.479044e+07  591.60\n",
       "4  1465689600  683.85  592.79  591.60   217379.53  1.396846e+08  666.55"
      ]
     },
     "execution_count": 7,
     "metadata": {},
     "output_type": "execute_result"
    }
   ],
   "source": [
    "df.head()"
   ]
  },
  {
   "cell_type": "code",
   "execution_count": 8,
   "id": "limiting-religion",
   "metadata": {},
   "outputs": [
    {
     "data": {
      "text/html": [
       "<div>\n",
       "<style scoped>\n",
       "    .dataframe tbody tr th:only-of-type {\n",
       "        vertical-align: middle;\n",
       "    }\n",
       "\n",
       "    .dataframe tbody tr th {\n",
       "        vertical-align: top;\n",
       "    }\n",
       "\n",
       "    .dataframe thead th {\n",
       "        text-align: right;\n",
       "    }\n",
       "</style>\n",
       "<table border=\"1\" class=\"dataframe\">\n",
       "  <thead>\n",
       "    <tr style=\"text-align: right;\">\n",
       "      <th></th>\n",
       "      <th>time</th>\n",
       "      <th>high</th>\n",
       "      <th>low</th>\n",
       "      <th>open</th>\n",
       "      <th>volumefrom</th>\n",
       "      <th>volumeto</th>\n",
       "      <th>close</th>\n",
       "    </tr>\n",
       "  </thead>\n",
       "  <tbody>\n",
       "    <tr>\n",
       "      <th>1996</th>\n",
       "      <td>1637798400</td>\n",
       "      <td>59437.04</td>\n",
       "      <td>57056.64</td>\n",
       "      <td>57175.09</td>\n",
       "      <td>24221.47</td>\n",
       "      <td>1.412787e+09</td>\n",
       "      <td>58966.99</td>\n",
       "    </tr>\n",
       "    <tr>\n",
       "      <th>1997</th>\n",
       "      <td>1637884800</td>\n",
       "      <td>59201.95</td>\n",
       "      <td>53575.54</td>\n",
       "      <td>58966.99</td>\n",
       "      <td>60064.72</td>\n",
       "      <td>3.312563e+09</td>\n",
       "      <td>53788.22</td>\n",
       "    </tr>\n",
       "    <tr>\n",
       "      <th>1998</th>\n",
       "      <td>1637971200</td>\n",
       "      <td>55316.65</td>\n",
       "      <td>53668.95</td>\n",
       "      <td>53788.22</td>\n",
       "      <td>18504.73</td>\n",
       "      <td>1.010586e+09</td>\n",
       "      <td>54805.03</td>\n",
       "    </tr>\n",
       "    <tr>\n",
       "      <th>1999</th>\n",
       "      <td>1638057600</td>\n",
       "      <td>57475.26</td>\n",
       "      <td>53436.05</td>\n",
       "      <td>54805.03</td>\n",
       "      <td>21562.34</td>\n",
       "      <td>1.186995e+09</td>\n",
       "      <td>57331.41</td>\n",
       "    </tr>\n",
       "    <tr>\n",
       "      <th>2000</th>\n",
       "      <td>1638144000</td>\n",
       "      <td>58898.57</td>\n",
       "      <td>56752.37</td>\n",
       "      <td>57331.41</td>\n",
       "      <td>24291.54</td>\n",
       "      <td>1.399402e+09</td>\n",
       "      <td>58380.15</td>\n",
       "    </tr>\n",
       "  </tbody>\n",
       "</table>\n",
       "</div>"
      ],
      "text/plain": [
       "            time      high       low      open  volumefrom      volumeto  \\\n",
       "1996  1637798400  59437.04  57056.64  57175.09    24221.47  1.412787e+09   \n",
       "1997  1637884800  59201.95  53575.54  58966.99    60064.72  3.312563e+09   \n",
       "1998  1637971200  55316.65  53668.95  53788.22    18504.73  1.010586e+09   \n",
       "1999  1638057600  57475.26  53436.05  54805.03    21562.34  1.186995e+09   \n",
       "2000  1638144000  58898.57  56752.37  57331.41    24291.54  1.399402e+09   \n",
       "\n",
       "         close  \n",
       "1996  58966.99  \n",
       "1997  53788.22  \n",
       "1998  54805.03  \n",
       "1999  57331.41  \n",
       "2000  58380.15  "
      ]
     },
     "execution_count": 8,
     "metadata": {},
     "output_type": "execute_result"
    }
   ],
   "source": [
    "df.tail()"
   ]
  },
  {
   "cell_type": "code",
   "execution_count": 9,
   "id": "naughty-edwards",
   "metadata": {},
   "outputs": [],
   "source": [
    "df = df.drop('time', axis = 1)"
   ]
  },
  {
   "cell_type": "code",
   "execution_count": 10,
   "id": "present-parcel",
   "metadata": {},
   "outputs": [],
   "source": [
    "test_df = df[-30:]"
   ]
  },
  {
   "cell_type": "code",
   "execution_count": 11,
   "id": "aquatic-portland",
   "metadata": {},
   "outputs": [],
   "source": [
    "X_test = test_df.iloc[:, [0, 1, 2, 3, 4]].values\n",
    "y_test = test_df.iloc[:, [5]].values"
   ]
  },
  {
   "cell_type": "code",
   "execution_count": 12,
   "id": "classical-series",
   "metadata": {},
   "outputs": [],
   "source": [
    "from sklearn.preprocessing import StandardScaler\n",
    "\n",
    "sc_X_test = StandardScaler()\n",
    "X_test = sc_X_test.fit_transform(X_test)\n",
    "\n",
    "sc_y_test = StandardScaler()\n",
    "y_test = sc_y_test.fit_transform(y_test)"
   ]
  },
  {
   "cell_type": "code",
   "execution_count": 13,
   "id": "respective-custom",
   "metadata": {},
   "outputs": [],
   "source": [
    "train_df = df[:len(df)-30]"
   ]
  },
  {
   "cell_type": "code",
   "execution_count": 14,
   "id": "usual-defeat",
   "metadata": {},
   "outputs": [],
   "source": [
    "X = train_df.iloc[:, [0, 1, 2, 3, 4]].values\n",
    "y = train_df.iloc[:, [5]].values"
   ]
  },
  {
   "cell_type": "code",
   "execution_count": 15,
   "id": "meaning-packaging",
   "metadata": {},
   "outputs": [],
   "source": [
    "from sklearn.preprocessing import StandardScaler\n",
    "sc_X = StandardScaler()\n",
    "X = sc_X.fit_transform(X)"
   ]
  },
  {
   "cell_type": "code",
   "execution_count": 16,
   "id": "bigger-disclaimer",
   "metadata": {},
   "outputs": [],
   "source": [
    "sc_y = StandardScaler()\n",
    "y = sc_y.fit_transform(y)"
   ]
  },
  {
   "cell_type": "code",
   "execution_count": 17,
   "id": "smart-attribute",
   "metadata": {},
   "outputs": [],
   "source": [
    "from sklearn.model_selection import train_test_split\n",
    "\n",
    "X_train, X_val, y_train, y_val = train_test_split(X, y, test_size=0.2)"
   ]
  },
  {
   "cell_type": "code",
   "execution_count": 18,
   "id": "attractive-announcement",
   "metadata": {},
   "outputs": [
    {
     "name": "stderr",
     "output_type": "stream",
     "text": [
      "/Library/Frameworks/Python.framework/Versions/3.9/lib/python3.9/site-packages/sklearn/utils/validation.py:63: DataConversionWarning: A column-vector y was passed when a 1d array was expected. Please change the shape of y to (n_samples, ), for example using ravel().\n",
      "  return f(*args, **kwargs)\n"
     ]
    },
    {
     "data": {
      "text/plain": [
       "SVR(C=1000)"
      ]
     },
     "execution_count": 18,
     "metadata": {},
     "output_type": "execute_result"
    }
   ],
   "source": [
    "from sklearn.svm import SVR\n",
    "# Create and train the Support Vector Machine \n",
    "svr_rbf = SVR(kernel='rbf', C=1000)#Create the model\n",
    "svr_rbf.fit(X_train, y_train) #Train the model"
   ]
  },
  {
   "cell_type": "code",
   "execution_count": 20,
   "id": "prompt-lawsuit",
   "metadata": {},
   "outputs": [],
   "source": [
    "# save the model to disk\n",
    "filename = 'finalized_SVR_with_rbf_model.sav'\n",
    "pickle.dump(svr_rbf, open(filename, 'wb'))"
   ]
  },
  {
   "cell_type": "code",
   "execution_count": 21,
   "id": "based-gateway",
   "metadata": {},
   "outputs": [
    {
     "name": "stdout",
     "output_type": "stream",
     "text": [
      "svr_rbf accuracy:  0.9959401002628773\n"
     ]
    }
   ],
   "source": [
    "svr_rbf_confidence = svr_rbf.score(X_val, y_val)\n",
    "print(\"svr_rbf accuracy: \", svr_rbf_confidence)"
   ]
  },
  {
   "cell_type": "code",
   "execution_count": 22,
   "id": "spatial-interaction",
   "metadata": {},
   "outputs": [],
   "source": [
    "# Print the predicted value\n",
    "y_val_prediction = svr_rbf.predict(X_val)\n",
    "y_val_prediction = sc_y_test.inverse_transform(y_val_prediction)\n",
    "\n",
    "#get the actual values\n",
    "y_val_test = sc_y_test.inverse_transform(y_val)"
   ]
  },
  {
   "cell_type": "code",
   "execution_count": 23,
   "id": "southwest-booking",
   "metadata": {},
   "outputs": [
    {
     "name": "stdout",
     "output_type": "stream",
     "text": [
      "[[58419.48032152 58599.11580917]\n",
      " [58283.55364807 58092.51505306]\n",
      " [59224.52155558 59542.2892641 ]\n",
      " [58339.56070326 58105.37711489]\n",
      " [58929.14461953 59172.44123897]\n",
      " [59378.00700191 59636.67460692]\n",
      " [59088.27074886 59402.93609482]\n",
      " [58386.96278113 58130.00776803]\n",
      " [60000.41562373 60085.89802452]\n",
      " [58823.22476015 59151.09329459]\n",
      " [58260.45160881 58098.43036101]\n",
      " [58171.95213593 58114.88525454]\n",
      " [59057.81822752 59302.35748201]\n",
      " [60542.06016504 60213.56300473]\n",
      " [59778.12284072 59944.6519567 ]\n",
      " [60897.02632046 60897.03950879]\n",
      " [60490.7370397  60634.53996541]\n",
      " [58287.75002869 58246.95857493]\n",
      " [59185.06018058 59477.06236937]\n",
      " [60829.57844834 60606.86091862]\n",
      " [72164.07077178 72261.51765712]\n",
      " [69115.91976011 69237.70641834]\n",
      " [62334.8199567  62275.79326912]\n",
      " [59096.81369991 59377.90802487]\n",
      " [60237.06016513 60439.27507567]\n",
      " [58922.98702139 59140.24588327]\n",
      " [60024.21516675 60227.43583763]\n",
      " [59173.8283046  59506.04393251]\n",
      " [60872.3932449  60925.54555009]\n",
      " [58571.72825246 58778.00620763]\n",
      " [60442.3613017  60611.51505994]\n",
      " [60145.23632869 60330.7366407 ]\n",
      " [59895.56900319 60094.86632054]\n",
      " [58224.83800709 58095.11778855]\n",
      " [59974.89389511 59841.45912235]\n",
      " [59572.97509276 59663.72651621]\n",
      " [61203.88808603 60832.35245769]\n",
      " [58238.16056602 58093.62919844]\n",
      " [59160.54685586 59448.98820297]\n",
      " [58276.29205201 58088.0469855 ]\n",
      " [58186.95582708 58166.27377448]\n",
      " [59702.50494274 59997.8736478 ]\n",
      " [59385.13496493 59472.59889622]\n",
      " [58221.32997685 58101.74752787]\n",
      " [59479.91552414 59705.65743505]\n",
      " [58655.53685067 58748.68236064]\n",
      " [59899.76143632 59697.80787883]\n",
      " [59952.2750922  60101.82915487]\n",
      " [58664.47251418 58946.32715681]\n",
      " [58656.86894327 58878.03119356]\n",
      " [58658.56110842 58887.78513436]\n",
      " [59891.9769841  59916.49509086]\n",
      " [69721.81912487 69934.66523012]\n",
      " [60167.35131539 60325.75629599]\n",
      " [68774.25669709 68773.91411413]\n",
      " [59678.70049237 59874.97307485]\n",
      " [58231.96663092 58213.15747155]\n",
      " [59879.10094866 60075.73747809]\n",
      " [58614.11295656 58874.23850485]\n",
      " [65250.92990521 65351.44557761]\n",
      " [58537.12892826 58800.19263256]\n",
      " [66770.18114625 66771.9740467 ]\n",
      " [59193.55326193 59496.54498169]\n",
      " [58233.94435825 58132.49564318]\n",
      " [59334.47262152 59646.61232428]\n",
      " [59990.39612123 60271.31249077]\n",
      " [58269.5332545  58085.75896735]\n",
      " [62245.76858708 62354.39909725]\n",
      " [58461.86572584 58589.12295885]\n",
      " [71864.39075893 71809.36300342]\n",
      " [60239.24287734 60378.57138146]\n",
      " [65762.81178016 65928.77963357]\n",
      " [58258.38503307 58180.8771192 ]\n",
      " [58592.73882397 58598.37151411]\n",
      " [58508.29402721 58615.94974186]\n",
      " [63686.40416223 64028.72758692]\n",
      " [60525.76069868 60667.1603044 ]\n",
      " [59901.14684741 59934.51667954]\n",
      " [59424.36149311 59651.93265562]\n",
      " [58845.00912821 59009.70020552]\n",
      " [58846.10971404 59148.44920937]\n",
      " [59799.5931575  59905.98536896]\n",
      " [59146.13626432 59444.19622923]\n",
      " [58316.5620243  58385.70528156]\n",
      " [58590.81540613 58842.16719833]\n",
      " [58634.77992052 58791.18528402]\n",
      " [60058.62983057 60312.70356598]\n",
      " [59758.17162621 59899.98965877]\n",
      " [68356.25663005 68159.06437113]\n",
      " [58294.35652924 58093.62690123]\n",
      " [59809.27726579 60111.1328431 ]\n",
      " [58394.9384039  58223.93826387]\n",
      " [60163.03631568 60342.35361635]\n",
      " [67201.67512274 67149.3247498 ]\n",
      " [66949.46886844 66948.45008063]\n",
      " [58274.2132749  58089.3334214 ]\n",
      " [65508.39286827 65567.28655019]\n",
      " [58745.58420225 58944.65938455]\n",
      " [71864.24479517 71749.72521325]\n",
      " [59678.64384405 59899.00875139]\n",
      " [59237.62950556 59532.02993777]\n",
      " [58221.92143335 58173.91428487]\n",
      " [60189.99482182 60373.64846692]\n",
      " [58555.96132147 58779.10197535]\n",
      " [59789.51695031 59814.33370244]\n",
      " [60224.8640375  60385.58934876]\n",
      " [58269.59725679 58201.14078189]\n",
      " [58375.80200021 58131.40676708]\n",
      " [59941.0715511  60157.89249099]\n",
      " [58233.67518023 58230.80920992]\n",
      " [61147.19665028 61133.21076307]\n",
      " [60253.36350687 60464.31233445]\n",
      " [71536.74027622 71300.683275  ]\n",
      " [58187.00894003 58159.25121277]\n",
      " [60323.24366228 60467.92813822]\n",
      " [58908.16963426 59047.84532728]\n",
      " [69810.82625331 69805.26356144]\n",
      " [59620.14944454 59837.49644033]\n",
      " [58676.09878487 58820.02212313]\n",
      " [59600.76185472 59773.36531332]\n",
      " [59134.41346573 59473.35697452]\n",
      " [59801.41042558 60060.31173328]\n",
      " [67692.43502376 67797.63560955]\n",
      " [58509.27012326 58750.09284572]\n",
      " [58588.34537104 58866.52448384]\n",
      " [60574.61715675 60692.28255984]\n",
      " [60046.81238553 60197.59741628]\n",
      " [58237.75398029 58248.40351811]\n",
      " [59686.10448316 59817.66924696]\n",
      " [65529.88895439 65821.37601884]\n",
      " [58326.4230278  58093.69811465]\n",
      " [58243.56921329 58240.33572723]\n",
      " [68766.53166211 68850.52826382]\n",
      " [63397.11632428 63344.4723297 ]\n",
      " [58598.52581314 58896.11250963]\n",
      " [59206.2596527  59402.41692605]\n",
      " [59183.99614497 59419.86421299]\n",
      " [58414.49235477 58541.31348737]\n",
      " [58714.58533781 58780.78812527]\n",
      " [58209.69241182 58234.47325504]\n",
      " [69116.70421182 69379.4900326 ]\n",
      " [59187.39903578 59454.78405616]\n",
      " [65011.68758164 65039.92363747]\n",
      " [60448.78134537 60460.48289043]\n",
      " [58320.02411295 58122.25010009]\n",
      " [71599.13755591 71195.46660131]\n",
      " [59743.33278674 59864.1118803 ]\n",
      " [61754.8899809  61705.59663521]\n",
      " [60439.35551913 60556.57276082]\n",
      " [58201.16590985 58114.10190696]\n",
      " [72153.88365767 72062.22346635]\n",
      " [59774.05383761 59993.90177695]\n",
      " [60028.82071606 60233.69802383]\n",
      " [59612.31345836 59782.12915791]\n",
      " [59450.16051582 59674.0386783 ]\n",
      " [61564.99012701 61393.93915987]\n",
      " [65635.35825647 65690.28360583]\n",
      " [67014.93410751 66949.12775669]\n",
      " [59159.44106423 59468.60635051]\n",
      " [68108.11968464 68257.71333008]\n",
      " [58267.97697462 58114.42351594]\n",
      " [59248.11246291 59440.0658511 ]\n",
      " [69131.01956413 69287.20663416]\n",
      " [71109.58343649 71233.62091189]\n",
      " [64270.488632   64590.14429578]\n",
      " [59396.35494865 59607.95262816]\n",
      " [59825.22170181 60031.62191542]\n",
      " [69944.24274312 69325.71471461]\n",
      " [58930.85720829 59191.69183339]\n",
      " [69575.65199325 69413.89989582]\n",
      " [60600.47224535 60361.45718953]\n",
      " [59381.11030039 59410.00000626]\n",
      " [59639.02413403 59830.99075019]\n",
      " [66253.90609648 66405.06644649]\n",
      " [61793.03078951 61681.54717543]\n",
      " [59353.1540873  59646.04031974]\n",
      " [59092.6188619  59352.23214256]\n",
      " [60585.91205613 60686.68426645]\n",
      " [59500.39209035 59626.70932308]\n",
      " [59565.95625657 59797.01505908]\n",
      " [58372.11522347 58469.30064324]\n",
      " [59185.45314656 59485.57352119]\n",
      " [58903.0212079  59120.73570447]\n",
      " [59406.76218832 59644.33808938]\n",
      " [59321.38678962 59542.62695353]\n",
      " [71224.12813518 71191.5108109 ]\n",
      " [58344.14746758 58546.87502544]\n",
      " [58172.01097772 58108.13606046]\n",
      " [58237.89368576 58215.89114785]\n",
      " [59768.39417364 60068.0946705 ]\n",
      " [60339.67636865 60430.32975172]\n",
      " [59119.67263652 59306.10882099]\n",
      " [72192.45571657 71876.99966827]\n",
      " [59649.34698319 59881.9428008 ]\n",
      " [58880.67397444 59014.61622844]\n",
      " [59171.50535478 59494.78991556]\n",
      " [65551.97427381 66107.77570354]\n",
      " [59894.49619639 60038.84203693]\n",
      " [59878.4115716  60110.00950889]\n",
      " [58798.16931498 58921.23246786]\n",
      " [61643.07066647 61699.55038647]\n",
      " [68937.72963289 69014.298446  ]\n",
      " [59897.06960202 60126.56088512]\n",
      " [60592.84924359 60516.48649917]\n",
      " [60311.06269392 60258.56299209]\n",
      " [65444.6438944  65772.90265455]\n",
      " [58354.50596928 58084.62414711]\n",
      " [60422.74944577 60234.39867196]\n",
      " [58719.41200635 58873.65731149]\n",
      " [60059.12201693 60187.13823294]\n",
      " [59372.24442785 59397.40212323]\n",
      " [58307.2719732  58103.34178951]\n",
      " [59032.3069874  59284.63682744]\n",
      " [58436.67951428 58169.47148659]\n",
      " [58671.21227024 58922.71646356]\n",
      " [59850.72026144 60048.74529618]\n",
      " [60887.59945905 60937.73223307]\n",
      " [58436.08094061 58164.60370501]\n",
      " [58430.10400853 58099.53302035]\n",
      " [61194.8183296  60545.42441539]\n",
      " [60148.3052801  60323.14437166]\n",
      " [58281.47656837 58092.69193799]\n",
      " [58214.32337964 58227.89175707]\n",
      " [59231.69271877 59368.17246173]\n",
      " [59546.05660916 59776.15641979]\n",
      " [59137.77889299 59425.12711416]\n",
      " [58541.10710785 58785.4767247 ]\n",
      " [60506.67892404 60275.44976053]\n",
      " [59944.01537907 60061.80032339]\n",
      " [59146.06792897 59441.33161214]\n",
      " [59398.0152041  59663.6897609 ]\n",
      " [59429.06101451 59513.50985517]\n",
      " [59091.10004226 59399.81878496]\n",
      " [59576.06672827 59651.1355248 ]\n",
      " [58773.6754284  59041.35571758]\n",
      " [58599.52454968 58778.9526569 ]\n",
      " [58685.45241156 58845.41544899]\n",
      " [59671.19827819 59929.74538066]\n",
      " [59650.96998519 59776.95355061]\n",
      " [58266.40819918 58187.02444505]\n",
      " [59426.56577277 59671.33946011]\n",
      " [59395.13225065 59587.9623331 ]\n",
      " [71079.16208274 70919.48475022]\n",
      " [67175.60550323 66980.49611788]\n",
      " [59935.3020448  60134.29787819]\n",
      " [65120.8863452  65167.23714501]\n",
      " [60023.91622246 60169.24069343]\n",
      " [58288.49104739 58117.84635433]\n",
      " [58623.58348418 58746.05205866]\n",
      " [58401.82443897 58523.45040596]\n",
      " [58330.94548922 58097.94565034]\n",
      " [59197.03176557 59425.69452429]\n",
      " [59607.07231293 59647.09473774]\n",
      " [61545.33314193 61476.37672923]\n",
      " [59097.74305269 59234.48650205]\n",
      " [59493.45622139 59772.37521711]\n",
      " [59864.60801086 60121.98255162]\n",
      " [59900.03193833 60144.50436877]\n",
      " [59975.92442666 60130.12615033]\n",
      " [59202.83898706 59365.81552738]\n",
      " [60423.34135555 60478.98000096]\n",
      " [59796.24073601 59981.83454873]\n",
      " [60542.44086353 60631.64318742]\n",
      " [58286.84284681 58088.96357108]\n",
      " [58205.40421437 58123.84206452]\n",
      " [58410.88132633 58568.12418993]\n",
      " [59158.0361235  59378.74420821]\n",
      " [58494.50450139 58636.66595432]\n",
      " [59067.77178685 59364.44868923]\n",
      " [60323.35710134 60494.03359824]\n",
      " [58392.48665588 58576.23103333]\n",
      " [60270.4953726  60425.26441035]\n",
      " [60086.56879065 60288.71613079]\n",
      " [58635.14552729 58784.55784191]\n",
      " [58310.9289647  58236.77735363]\n",
      " [58661.00734074 58741.40251175]\n",
      " [60168.59201503 60289.39610405]\n",
      " [60469.3072782  60596.4063297 ]\n",
      " [58597.89447301 58845.5188233 ]\n",
      " [60808.76162822 60520.85119242]\n",
      " [60820.14687843 60840.50754244]\n",
      " [60105.67717291 60057.87209947]\n",
      " [59633.68055448 59890.55732695]\n",
      " [58442.58973503 58544.5525492 ]\n",
      " [58203.36435775 58194.23767494]\n",
      " [59384.67158021 59736.85350572]\n",
      " [58538.07523452 58529.87569386]\n",
      " [67856.3710808  67963.94650263]\n",
      " [59970.91442015 60109.40534346]\n",
      " [58360.99336947 58129.65859257]\n",
      " [58347.61545934 58087.89536984]\n",
      " [58785.85910516 58946.15256908]\n",
      " [58277.45364257 58092.10615022]\n",
      " [59112.27645179 59424.57578449]\n",
      " [58218.15153304 58105.85723114]\n",
      " [59932.99261642 60155.99270083]\n",
      " [58582.03835677 58834.77938071]\n",
      " [59351.91491917 59655.08672079]\n",
      " [63423.68080389 63629.53733715]\n",
      " [58163.53035691 58085.62113494]\n",
      " [60344.66802093 60466.26266317]\n",
      " [58845.05862832 59082.30343184]\n",
      " [58514.64192691 58456.46614789]\n",
      " [59607.07265509 59835.00626797]\n",
      " [58670.24963889 58803.32142845]\n",
      " [58234.13128692 58121.88714139]\n",
      " [58642.8878644  58907.24707182]\n",
      " [59274.80275987 59451.94470834]\n",
      " [59920.78259008 60093.72231146]\n",
      " [59931.97341194 60094.23688583]\n",
      " [59881.0078848  59971.69008275]\n",
      " [59357.87800057 59641.41144769]\n",
      " [59303.84149263 59600.72561503]\n",
      " [60441.78489616 60327.6377085 ]\n",
      " [60550.3649818  60586.13551733]\n",
      " [59144.01780594 59436.95773007]\n",
      " [59434.69968226 59677.24328203]\n",
      " [58194.29501358 58086.88459877]\n",
      " [59881.12792732 59945.94758143]\n",
      " [59697.953919   59956.60432457]\n",
      " [70604.88781088 69968.68916256]\n",
      " [58251.58692575 58182.25774059]\n",
      " [60629.06106498 60600.38968658]\n",
      " [60335.22149597 60405.99084387]\n",
      " [59860.16939305 60079.91380036]\n",
      " [58571.34056059 58576.83290155]\n",
      " [58563.18376972 58728.98610807]\n",
      " [58263.61337225 58092.93773914]\n",
      " [58945.53195491 59154.92273861]\n",
      " [58402.56134455 58097.06811727]\n",
      " [58387.14298443 58093.89337724]\n",
      " [59230.91968073 59444.61891531]\n",
      " [59573.27678224 59804.95190917]\n",
      " [59399.8633054  59615.50354748]\n",
      " [58502.66744576 58733.47944491]\n",
      " [58596.20509416 58584.64340526]\n",
      " [59285.65047163 59506.98808458]\n",
      " [65735.17244533 65548.9686218 ]\n",
      " [60001.65522449 60225.96332796]\n",
      " [60455.12138797 60597.29994321]\n",
      " [59412.41563813 59683.52614309]\n",
      " [58546.09306961 58492.07285594]\n",
      " [58720.92341341 58964.6772461 ]\n",
      " [60157.74073576 60336.33263688]\n",
      " [60078.1041241  60161.24411596]\n",
      " [60014.22796783 60292.75691785]\n",
      " [58581.64068263 58863.52892595]\n",
      " [67658.31586286 67877.94826246]\n",
      " [59502.75855744 59835.08667022]\n",
      " [58361.12454017 58542.80437469]\n",
      " [58908.04469238 59217.23218049]\n",
      " [59123.54579812 59455.73509985]\n",
      " [58225.75044802 58190.65862648]\n",
      " [72555.4196814  72554.30127999]\n",
      " [58610.61034585 58883.59043443]\n",
      " [61895.19215771 61878.12836477]\n",
      " [62355.6658174  62250.31264939]\n",
      " [60027.86377017 60180.65321766]\n",
      " [59282.44083246 59608.38680028]\n",
      " [60272.17803161 60405.33613988]\n",
      " [59123.78543409 59438.19592462]\n",
      " [66411.4150589  66531.36918297]\n",
      " [58715.6997604  58834.51979632]\n",
      " [68123.56013841 68203.27182208]\n",
      " [60497.76868732 60569.52671093]\n",
      " [70844.4282407  70380.42675681]\n",
      " [60143.38336932 60313.24570682]\n",
      " [58202.98295808 58194.67414427]\n",
      " [59741.30285594 59952.76798893]\n",
      " [58744.5260391  59006.41749676]\n",
      " [58286.85344215 58131.68472912]\n",
      " [58319.47477685 58093.2225928 ]\n",
      " [58220.73643124 58194.70860237]\n",
      " [58856.33161766 59156.48024494]\n",
      " [59207.35699962 59330.34435454]\n",
      " [59083.87584489 59389.14366417]\n",
      " [58494.38233252 58515.51125867]\n",
      " [58477.05529014 58696.06713218]\n",
      " [59682.70901899 59730.56145583]\n",
      " [60457.99267894 60409.21152804]\n",
      " [59148.47529772 59422.58870046]\n",
      " [58197.80340119 58191.37076064]\n",
      " [58756.59815822 58917.43059032]\n",
      " [61241.95701949 61121.43987455]\n",
      " [58916.17367601 59051.09128073]\n",
      " [59120.42451403 59418.75925644]\n",
      " [70138.17751132 70386.355848  ]\n",
      " [59156.13701448 59392.38961762]\n",
      " [58162.46309641 58086.95810939]\n",
      " [60455.68186536 60604.52465913]\n",
      " [58988.11854893 59331.63079044]\n",
      " [59396.65478047 59689.96521423]\n",
      " [60547.98233062 60598.45314111]\n",
      " [65432.66590285 65719.12733656]\n",
      " [61976.81826405 61899.25348008]]\n"
     ]
    }
   ],
   "source": [
    "print(np.concatenate((y_val_prediction.reshape(len(y_val_prediction),1), y_val_test.reshape(len(y_val_test),1)),1))"
   ]
  },
  {
   "cell_type": "code",
   "execution_count": 24,
   "id": "lonely-malta",
   "metadata": {},
   "outputs": [],
   "source": [
    "def line_plot(line1, line2, label1=None, label2=None, title='', lw=2):\n",
    "    fig, ax = plt.subplots(1, figsize=(13, 7))\n",
    "    ax.plot(line1, label=label1, linewidth=lw)\n",
    "    ax.plot(line2, label=label2, linewidth=lw)\n",
    "    ax.set_ylabel('price [USD]', fontsize=14)\n",
    "    ax.set_title(title, fontsize=16)\n",
    "    ax.legend(loc='best', fontsize=16)"
   ]
  },
  {
   "cell_type": "code",
   "execution_count": 25,
   "id": "every-flour",
   "metadata": {},
   "outputs": [
    {
     "data": {
      "image/png": "[encoded data removed]",
      "text/plain": [
       "<Figure size 936x504 with 1 Axes>"
      ]
     },
     "metadata": {
      "needs_background": "light"
     },
     "output_type": "display_data"
    }
   ],
   "source": [
    "line_plot(y_val_test, y_val_prediction, 'actual', 'prediction', lw=3)"
   ]
  },
  {
   "cell_type": "markdown",
   "id": "palestinian-filing",
   "metadata": {},
   "source": [
    "# test data"
   ]
  },
  {
   "cell_type": "code",
   "execution_count": 26,
   "id": "associate-wrist",
   "metadata": {},
   "outputs": [
    {
     "name": "stdout",
     "output_type": "stream",
     "text": [
      "\n"
     ]
    }
   ],
   "source": [
    "# Print the predicted value\n",
    "y_prediction = svr_rbf.predict(X_test)\n",
    "y_prediction = sc_y_test.inverse_transform(y_prediction)\n",
    "\n",
    "print()\n",
    "\n",
    "#get the actual values\n",
    "y_test = sc_y_test.inverse_transform(y_test)"
   ]
  },
  {
   "cell_type": "code",
   "execution_count": 27,
   "id": "medium-coupon",
   "metadata": {
    "scrolled": true
   },
   "outputs": [
    {
     "name": "stdout",
     "output_type": "stream",
     "text": [
      "[[61473.66953018 61349.75      ]\n",
      " [61077.53205561 60960.98      ]\n",
      " [62180.43249348 63260.05      ]\n",
      " [62419.38382556 62929.93      ]\n",
      " [62290.77658926 61448.47      ]\n",
      " [61696.5144338  61019.66      ]\n",
      " [61038.14468663 61529.76      ]\n",
      " [62429.10953547 63302.78      ]\n",
      " [64984.33128492 67549.14      ]\n",
      " [66754.59831658 66939.24      ]\n",
      " [64947.40518203 64926.06      ]\n",
      " [64684.03584616 64820.8       ]\n",
      " [63565.91236887 64156.3       ]\n",
      " [64255.76251709 64409.56      ]\n",
      " [64486.5819694  65509.06      ]\n",
      " [64712.93213345 63614.06      ]\n",
      " [61969.97036765 60108.9       ]\n",
      " [60666.92783979 60365.6       ]\n",
      " [61715.9170159  56930.68      ]\n",
      " [59523.63571371 58136.22      ]\n",
      " [58613.30396836 59769.66      ]\n",
      " [59491.58863642 58700.83      ]\n",
      " [59969.21265132 56303.06      ]\n",
      " [59864.84466322 57566.6       ]\n",
      " [58613.37697491 57175.09      ]\n",
      " [58341.98221049 58966.99      ]\n",
      " [61967.11832782 53788.22      ]\n",
      " [61057.60917177 54805.03      ]\n",
      " [59860.80326274 57331.41      ]\n",
      " [58254.46482143 58380.15      ]]\n"
     ]
    }
   ],
   "source": [
    "print(np.concatenate((y_prediction.reshape(len(y_prediction),1), y_test.reshape(len(y_test),1)),1))"
   ]
  },
  {
   "cell_type": "code",
   "execution_count": null,
   "id": "detailed-saying",
   "metadata": {},
   "outputs": [],
   "source": []
  },
  {
   "cell_type": "code",
   "execution_count": 28,
   "id": "structured-latin",
   "metadata": {},
   "outputs": [
    {
     "data": {
      "image/png": "[encoded data removed]",
      "text/plain": [
       "<Figure size 936x504 with 1 Axes>"
      ]
     },
     "metadata": {
      "needs_background": "light"
     },
     "output_type": "display_data"
    }
   ],
   "source": [
    "line_plot(y_test, y_prediction, 'actual', 'prediction', lw=3)"
   ]
  },
  {
   "cell_type": "code",
   "execution_count": 29,
   "id": "explicit-partner",
   "metadata": {},
   "outputs": [
    {
     "name": "stdout",
     "output_type": "stream",
     "text": [
      "Maximum Residual Error : 8178.898327820178\n"
     ]
    }
   ],
   "source": [
    "from sklearn.metrics import max_error\n",
    "\n",
    "mre = max_error(y_test, y_prediction)\n",
    "print(\"Maximum Residual Error :\", mre)"
   ]
  },
  {
   "cell_type": "code",
   "execution_count": 30,
   "id": "classical-quick",
   "metadata": {},
   "outputs": [
    {
     "name": "stdout",
     "output_type": "stream",
     "text": [
      "Mean absolute Error : 1529.4863568372232\n"
     ]
    }
   ],
   "source": [
    "from sklearn.metrics import mean_absolute_error\n",
    "\n",
    "mae = mean_absolute_error(y_test, y_prediction)\n",
    "print(\"Mean absolute Error :\", mae)"
   ]
  },
  {
   "cell_type": "code",
   "execution_count": 31,
   "id": "fluid-channels",
   "metadata": {},
   "outputs": [
    {
     "name": "stdout",
     "output_type": "stream",
     "text": [
      "Mean Squered Error : 5893645.778080007\n",
      "Root Mean Squered Error : 2427.6832120521835\n"
     ]
    }
   ],
   "source": [
    "from sklearn.metrics import mean_squared_error\n",
    "import math\n",
    "\n",
    "mse = mean_squared_error(y_test, y_prediction)\n",
    "rmse = math.sqrt(mse)\n",
    "print(\"Mean Squered Error :\", mse)\n",
    "print(\"Root Mean Squered Error :\",rmse)"
   ]
  },
  {
   "cell_type": "code",
   "execution_count": 32,
   "id": "dying-bleeding",
   "metadata": {},
   "outputs": [
    {
     "name": "stdout",
     "output_type": "stream",
     "text": [
      "R2 error 0.5185348769491717\n"
     ]
    }
   ],
   "source": [
    "from sklearn.metrics import r2_score\n",
    "\n",
    "r2 = r2_score(y_test, y_prediction)\n",
    "print(\"R2 error\", r2)"
   ]
  },
  {
   "cell_type": "code",
   "execution_count": 33,
   "id": "available-walnut",
   "metadata": {},
   "outputs": [
    {
     "name": "stdout",
     "output_type": "stream",
     "text": [
      "adjecent R2 error -365.92794086055716\n"
     ]
    }
   ],
   "source": [
    "\n",
    "adjecent_r2 = 1 - (1-svr_rbf.score(X_test, y_test))*(len(y_test)-1)/(len(y_test)-X_test.shape[1]-1)\n",
    "print(\"adjecent R2 error\", adjecent_r2)"
   ]
  },
  {
   "cell_type": "code",
   "execution_count": null,
   "id": "silent-apache",
   "metadata": {},
   "outputs": [],
   "source": []
  },
  {
   "cell_type": "code",
   "execution_count": null,
   "id": "disciplinary-sentence",
   "metadata": {},
   "outputs": [],
   "source": []
  }
 ],
 "metadata": {
  "kernelspec": {
   "display_name": "Python 3",
   "language": "python",
   "name": "python3"
  },
  "language_info": {
   "codemirror_mode": {
    "name": "ipython",
    "version": 3
   },
   "file_extension": ".py",
   "mimetype": "text/x-python",
   "name": "python",
   "nbconvert_exporter": "python",
   "pygments_lexer": "ipython3",
   "version": "3.9.1"
  }
 },
 "nbformat": 4,
 "nbformat_minor": 5
}
